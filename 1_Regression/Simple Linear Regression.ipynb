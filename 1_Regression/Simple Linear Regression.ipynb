{
  "nbformat": 4,
  "nbformat_minor": 0,
  "metadata": {
    "colab": {
      "name": "Simple Linear Regression.ipynb",
      "provenance": [],
      "collapsed_sections": [
        "IJWJ1mNuFeqv",
        "Vsbq1TzTGpmg",
        "CvkK4kOKG5M8"
      ],
      "include_colab_link": true
    },
    "kernelspec": {
      "name": "python3",
      "display_name": "Python 3"
    }
  },
  "cells": [
    {
      "cell_type": "markdown",
      "metadata": {
        "id": "view-in-github",
        "colab_type": "text"
      },
      "source": [
        "<a href=\"https://colab.research.google.com/github/elmaazouziyassine/Machine_Learning_Python/blob/master/1_Regression/Simple%20Linear%20Regression.ipynb\" target=\"_parent\"><img src=\"https://colab.research.google.com/assets/colab-badge.svg\" alt=\"Open In Colab\"/></a>"
      ]
    },
    {
      "cell_type": "markdown",
      "metadata": {
        "id": "mnAuvSZrtpF9",
        "colab_type": "text"
      },
      "source": [
        "# **Simple Linear Regression**\n",
        "\n"
      ]
    },
    {
      "cell_type": "markdown",
      "metadata": {
        "id": "8WlNnfISDgjp",
        "colab_type": "text"
      },
      "source": [
        "### **Data Preprocessing**\n",
        "\n",
        "\n"
      ]
    },
    {
      "cell_type": "code",
      "metadata": {
        "id": "59_UXMpUhLu1",
        "colab_type": "code",
        "colab": {}
      },
      "source": [
        "# Import the needed libraries\n",
        "import numpy as np\n",
        "import pandas as pd\n",
        "import matplotlib.pyplot as plt\n",
        "import seaborn as sns\n",
        "import sklearn"
      ],
      "execution_count": 0,
      "outputs": []
    },
    {
      "cell_type": "code",
      "metadata": {
        "id": "FhNsUA7PkyRg",
        "colab_type": "code",
        "outputId": "a8217649-ef6a-44f1-de9c-c7b58800746c",
        "colab": {
          "base_uri": "https://localhost:8080/",
          "height": 0
        }
      },
      "source": [
        "# Import dataset\n",
        "dataset = 'https://raw.githubusercontent.com/elmaazouziyassine/Machine_Learning_Python/master/1_Regression/salary.csv'\n",
        "data = pd.read_csv(dataset)\n",
        "data.head()"
      ],
      "execution_count": 16,
      "outputs": [
        {
          "output_type": "execute_result",
          "data": {
            "text/html": [
              "<div>\n",
              "<style scoped>\n",
              "    .dataframe tbody tr th:only-of-type {\n",
              "        vertical-align: middle;\n",
              "    }\n",
              "\n",
              "    .dataframe tbody tr th {\n",
              "        vertical-align: top;\n",
              "    }\n",
              "\n",
              "    .dataframe thead th {\n",
              "        text-align: right;\n",
              "    }\n",
              "</style>\n",
              "<table border=\"1\" class=\"dataframe\">\n",
              "  <thead>\n",
              "    <tr style=\"text-align: right;\">\n",
              "      <th></th>\n",
              "      <th>YearsExperience</th>\n",
              "      <th>Salary</th>\n",
              "    </tr>\n",
              "  </thead>\n",
              "  <tbody>\n",
              "    <tr>\n",
              "      <th>0</th>\n",
              "      <td>1.1</td>\n",
              "      <td>39343.0</td>\n",
              "    </tr>\n",
              "    <tr>\n",
              "      <th>1</th>\n",
              "      <td>1.3</td>\n",
              "      <td>46205.0</td>\n",
              "    </tr>\n",
              "    <tr>\n",
              "      <th>2</th>\n",
              "      <td>1.5</td>\n",
              "      <td>37731.0</td>\n",
              "    </tr>\n",
              "    <tr>\n",
              "      <th>3</th>\n",
              "      <td>2.0</td>\n",
              "      <td>43525.0</td>\n",
              "    </tr>\n",
              "    <tr>\n",
              "      <th>4</th>\n",
              "      <td>2.2</td>\n",
              "      <td>39891.0</td>\n",
              "    </tr>\n",
              "  </tbody>\n",
              "</table>\n",
              "</div>"
            ],
            "text/plain": [
              "   YearsExperience   Salary\n",
              "0              1.1  39343.0\n",
              "1              1.3  46205.0\n",
              "2              1.5  37731.0\n",
              "3              2.0  43525.0\n",
              "4              2.2  39891.0"
            ]
          },
          "metadata": {
            "tags": []
          },
          "execution_count": 16
        }
      ]
    },
    {
      "cell_type": "code",
      "metadata": {
        "id": "fESy5CqPDoo7",
        "colab_type": "code",
        "outputId": "277110a2-15c2-491b-c8bb-21856688388e",
        "colab": {
          "base_uri": "https://localhost:8080/",
          "height": 0
        }
      },
      "source": [
        "data.count()"
      ],
      "execution_count": 17,
      "outputs": [
        {
          "output_type": "execute_result",
          "data": {
            "text/plain": [
              "YearsExperience    30\n",
              "Salary             30\n",
              "dtype: int64"
            ]
          },
          "metadata": {
            "tags": []
          },
          "execution_count": 17
        }
      ]
    },
    {
      "cell_type": "code",
      "metadata": {
        "id": "bDowH4L4lYfM",
        "colab_type": "code",
        "colab": {
          "base_uri": "https://localhost:8080/",
          "height": 0
        },
        "outputId": "71426431-d87f-48ed-eba2-1cf4fc692196"
      },
      "source": [
        "# Separate Features Variables from Target Variable\n",
        "X = data.iloc[:, :-1].values\n",
        "y = data.iloc[:,-1].values\n",
        "X, y"
      ],
      "execution_count": 18,
      "outputs": [
        {
          "output_type": "execute_result",
          "data": {
            "text/plain": [
              "(array([[ 1.1],\n",
              "        [ 1.3],\n",
              "        [ 1.5],\n",
              "        [ 2. ],\n",
              "        [ 2.2],\n",
              "        [ 2.9],\n",
              "        [ 3. ],\n",
              "        [ 3.2],\n",
              "        [ 3.2],\n",
              "        [ 3.7],\n",
              "        [ 3.9],\n",
              "        [ 4. ],\n",
              "        [ 4. ],\n",
              "        [ 4.1],\n",
              "        [ 4.5],\n",
              "        [ 4.9],\n",
              "        [ 5.1],\n",
              "        [ 5.3],\n",
              "        [ 5.9],\n",
              "        [ 6. ],\n",
              "        [ 6.8],\n",
              "        [ 7.1],\n",
              "        [ 7.9],\n",
              "        [ 8.2],\n",
              "        [ 8.7],\n",
              "        [ 9. ],\n",
              "        [ 9.5],\n",
              "        [ 9.6],\n",
              "        [10.3],\n",
              "        [10.5]]),\n",
              " array([ 39343.,  46205.,  37731.,  43525.,  39891.,  56642.,  60150.,\n",
              "         54445.,  64445.,  57189.,  63218.,  55794.,  56957.,  57081.,\n",
              "         61111.,  67938.,  66029.,  83088.,  81363.,  93940.,  91738.,\n",
              "         98273., 101302., 113812., 109431., 105582., 116969., 112635.,\n",
              "        122391., 121872.]))"
            ]
          },
          "metadata": {
            "tags": []
          },
          "execution_count": 18
        }
      ]
    },
    {
      "cell_type": "code",
      "metadata": {
        "id": "L7Ao7_7GlkZ6",
        "colab_type": "code",
        "outputId": "a854da24-24ac-4230-a034-4b1eb2c3e77d",
        "colab": {
          "base_uri": "https://localhost:8080/",
          "height": 0
        }
      },
      "source": [
        "# Split the Dataset into Training Set and Test Set\n",
        "from sklearn.model_selection import train_test_split\n",
        "X_train, X_test, y_train, y_test = train_test_split(X,y, test_size = 0.2, random_state = 0) # 20% of data for test\n",
        "X_test, y_test"
      ],
      "execution_count": 19,
      "outputs": [
        {
          "output_type": "execute_result",
          "data": {
            "text/plain": [
              "(array([[ 1.5],\n",
              "        [10.3],\n",
              "        [ 4.1],\n",
              "        [ 3.9],\n",
              "        [ 9.5],\n",
              "        [ 8.7]]),\n",
              " array([ 37731., 122391.,  57081.,  63218., 116969., 109431.]))"
            ]
          },
          "metadata": {
            "tags": []
          },
          "execution_count": 19
        }
      ]
    },
    {
      "cell_type": "code",
      "metadata": {
        "id": "2POKXAixlE0N",
        "colab_type": "code",
        "outputId": "a93cf9ce-0578-4d68-d30d-a1f76c12da9c",
        "colab": {
          "base_uri": "https://localhost:8080/",
          "height": 0
        }
      },
      "source": [
        "plt.scatter(X_train, y_train, c = 'red')\n",
        "plt.scatter(X_test, y_test, c = 'blue')"
      ],
      "execution_count": 20,
      "outputs": [
        {
          "output_type": "execute_result",
          "data": {
            "text/plain": [
              "<matplotlib.collections.PathCollection at 0x7fc69c740978>"
            ]
          },
          "metadata": {
            "tags": []
          },
          "execution_count": 20
        },
        {
          "output_type": "display_data",
          "data": {
            "image/png": "[encoded data removed]",
            "text/plain": [
              "<Figure size 432x288 with 1 Axes>"
            ]
          },
          "metadata": {
            "tags": []
          }
        }
      ]
    },
    {
      "cell_type": "markdown",
      "metadata": {
        "id": "Vsbq1TzTGpmg",
        "colab_type": "text"
      },
      "source": [
        "### **Apply the model to the Training Set**\n",
        "\n"
      ]
    },
    {
      "cell_type": "code",
      "metadata": {
        "id": "lDas2p12DosS",
        "colab_type": "code",
        "outputId": "fad2c72f-411c-469f-d04a-c57212f08eb3",
        "colab": {
          "base_uri": "https://localhost:8080/",
          "height": 34
        }
      },
      "source": [
        "from sklearn.linear_model import LinearRegression\n",
        "regressor = LinearRegression()\n",
        "regressor.fit(X_train, y_train)"
      ],
      "execution_count": 21,
      "outputs": [
        {
          "output_type": "execute_result",
          "data": {
            "text/plain": [
              "LinearRegression(copy_X=True, fit_intercept=True, n_jobs=None, normalize=False)"
            ]
          },
          "metadata": {
            "tags": []
          },
          "execution_count": 21
        }
      ]
    },
    {
      "cell_type": "code",
      "metadata": {
        "id": "UAy3iG-342xK",
        "colab_type": "code",
        "colab": {
          "base_uri": "https://localhost:8080/",
          "height": 52
        },
        "outputId": "aeaa9040-917b-48c0-bcfa-134a6c2d6d11"
      },
      "source": [
        "# Predict the Test Set resutls \n",
        "y_pred = regressor.predict(X_test)\n",
        "y_pred"
      ],
      "execution_count": 22,
      "outputs": [
        {
          "output_type": "execute_result",
          "data": {
            "text/plain": [
              "array([ 40748.96184072, 122699.62295594,  64961.65717022,  63099.14214487,\n",
              "       115249.56285456, 107799.50275317])"
            ]
          },
          "metadata": {
            "tags": []
          },
          "execution_count": 22
        }
      ]
    },
    {
      "cell_type": "markdown",
      "metadata": {
        "id": "CvkK4kOKG5M8",
        "colab_type": "text"
      },
      "source": [
        "### **Visualize the results**"
      ]
    },
    {
      "cell_type": "code",
      "metadata": {
        "id": "5A07R3MPDoyF",
        "colab_type": "code",
        "outputId": "53b1141f-569b-4936-dfa2-61d325b4422e",
        "colab": {
          "base_uri": "https://localhost:8080/",
          "height": 295
        }
      },
      "source": [
        "plt.scatter(X_train, y_train, c = 'red')\n",
        "plt.scatter(X_test, y_test, c = 'blue')\n",
        "\n",
        "plt.plot(X, regressor.predict(X), c = 'green')\n",
        "\n",
        "plt.title('Salary vs. Years of Experience')\n",
        "plt.xlabel('Years of Experience')\n",
        "plt.ylabel('Salary')\n",
        "plt.show()"
      ],
      "execution_count": 23,
      "outputs": [
        {
          "output_type": "display_data",
          "data": {
            "image/png": "[encoded data removed]",
            "text/plain": [
              "<Figure size 432x288 with 1 Axes>"
            ]
          },
          "metadata": {
            "tags": []
          }
        }
      ]
    },
    {
      "cell_type": "markdown",
      "metadata": {
        "id": "V6H8Dnw4HfyW",
        "colab_type": "text"
      },
      "source": [
        "### **Test the performance of the model**"
      ]
    },
    {
      "cell_type": "code",
      "metadata": {
        "id": "7YS7m5CMDo1Z",
        "colab_type": "code",
        "outputId": "1e71f784-220b-4e79-d8d2-6818a96403db",
        "colab": {
          "base_uri": "https://localhost:8080/",
          "height": 52
        }
      },
      "source": [
        "y_pred = regressor.predict(X_test)\n",
        "error = (y_test-y_pred)*100/y_test   # Error in %\n",
        "error"
      ],
      "execution_count": 24,
      "outputs": [
        {
          "output_type": "execute_result",
          "data": {
            "text/plain": [
              "array([ -7.9986267 ,  -0.25216148, -13.80609515,   0.18801268,\n",
              "         1.46999388,   1.49089129])"
            ]
          },
          "metadata": {
            "tags": []
          },
          "execution_count": 24
        }
      ]
    }
  ]
}