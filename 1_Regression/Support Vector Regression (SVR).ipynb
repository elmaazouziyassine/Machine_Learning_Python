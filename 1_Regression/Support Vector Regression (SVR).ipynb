{
  "nbformat": 4,
  "nbformat_minor": 0,
  "metadata": {
    "colab": {
      "name": "Support Vector Regression (SVR).ipynb",
      "provenance": [],
      "collapsed_sections": [
        "CvkK4kOKG5M8"
      ],
      "include_colab_link": true
    },
    "kernelspec": {
      "name": "python3",
      "display_name": "Python 3"
    }
  },
  "cells": [
    {
      "cell_type": "markdown",
      "metadata": {
        "id": "view-in-github",
        "colab_type": "text"
      },
      "source": [
        "<a href=\"https://colab.research.google.com/github/elmaazouziyassine/Machine_Learning_Python/blob/master/1_Regression/Support%20Vector%20Regression%20(SVR).ipynb\" target=\"_parent\"><img src=\"https://colab.research.google.com/assets/colab-badge.svg\" alt=\"Open In Colab\"/></a>"
      ]
    },
    {
      "cell_type": "markdown",
      "metadata": {
        "id": "mnAuvSZrtpF9",
        "colab_type": "text"
      },
      "source": [
        "# **Support Vector Regression (SVR)**\n",
        "\n"
      ]
    },
    {
      "cell_type": "markdown",
      "metadata": {
        "id": "8WlNnfISDgjp",
        "colab_type": "text"
      },
      "source": [
        "### **Data Preprocessing**\n",
        "\n",
        "\n"
      ]
    },
    {
      "cell_type": "code",
      "metadata": {
        "id": "59_UXMpUhLu1",
        "colab_type": "code",
        "colab": {}
      },
      "source": [
        "# Import the needed libraries\n",
        "import numpy as np\n",
        "import pandas as pd\n",
        "import matplotlib.pyplot as plt\n",
        "import seaborn as sns\n",
        "import sklearn"
      ],
      "execution_count": 0,
      "outputs": []
    },
    {
      "cell_type": "code",
      "metadata": {
        "id": "FhNsUA7PkyRg",
        "colab_type": "code",
        "outputId": "4c471d41-40f8-4ec1-a7e1-7b41fd620349",
        "colab": {
          "base_uri": "https://localhost:8080/",
          "height": 195
        }
      },
      "source": [
        "# Import dataset\n",
        "dataset = 'https://raw.githubusercontent.com/elmaazouziyassine/Machine_Learning_Python/master/1_Regression/positions_salaries.csv'\n",
        "data = pd.read_csv(dataset)\n",
        "data.head()"
      ],
      "execution_count": 62,
      "outputs": [
        {
          "output_type": "execute_result",
          "data": {
            "text/html": [
              "<div>\n",
              "<style scoped>\n",
              "    .dataframe tbody tr th:only-of-type {\n",
              "        vertical-align: middle;\n",
              "    }\n",
              "\n",
              "    .dataframe tbody tr th {\n",
              "        vertical-align: top;\n",
              "    }\n",
              "\n",
              "    .dataframe thead th {\n",
              "        text-align: right;\n",
              "    }\n",
              "</style>\n",
              "<table border=\"1\" class=\"dataframe\">\n",
              "  <thead>\n",
              "    <tr style=\"text-align: right;\">\n",
              "      <th></th>\n",
              "      <th>Position</th>\n",
              "      <th>Level</th>\n",
              "      <th>Salary</th>\n",
              "    </tr>\n",
              "  </thead>\n",
              "  <tbody>\n",
              "    <tr>\n",
              "      <th>0</th>\n",
              "      <td>Business Analyst</td>\n",
              "      <td>1</td>\n",
              "      <td>45000</td>\n",
              "    </tr>\n",
              "    <tr>\n",
              "      <th>1</th>\n",
              "      <td>Junior Consultant</td>\n",
              "      <td>2</td>\n",
              "      <td>50000</td>\n",
              "    </tr>\n",
              "    <tr>\n",
              "      <th>2</th>\n",
              "      <td>Senior Consultant</td>\n",
              "      <td>3</td>\n",
              "      <td>60000</td>\n",
              "    </tr>\n",
              "    <tr>\n",
              "      <th>3</th>\n",
              "      <td>Manager</td>\n",
              "      <td>4</td>\n",
              "      <td>80000</td>\n",
              "    </tr>\n",
              "    <tr>\n",
              "      <th>4</th>\n",
              "      <td>Country Manager</td>\n",
              "      <td>5</td>\n",
              "      <td>110000</td>\n",
              "    </tr>\n",
              "  </tbody>\n",
              "</table>\n",
              "</div>"
            ],
            "text/plain": [
              "            Position  Level  Salary\n",
              "0   Business Analyst      1   45000\n",
              "1  Junior Consultant      2   50000\n",
              "2  Senior Consultant      3   60000\n",
              "3            Manager      4   80000\n",
              "4    Country Manager      5  110000"
            ]
          },
          "metadata": {
            "tags": []
          },
          "execution_count": 62
        }
      ]
    },
    {
      "cell_type": "code",
      "metadata": {
        "id": "fESy5CqPDoo7",
        "colab_type": "code",
        "outputId": "d0462de7-333f-4de4-faf8-1ee5dc66ecfe",
        "colab": {
          "base_uri": "https://localhost:8080/",
          "height": 87
        }
      },
      "source": [
        "data.count()"
      ],
      "execution_count": 63,
      "outputs": [
        {
          "output_type": "execute_result",
          "data": {
            "text/plain": [
              "Position    10\n",
              "Level       10\n",
              "Salary      10\n",
              "dtype: int64"
            ]
          },
          "metadata": {
            "tags": []
          },
          "execution_count": 63
        }
      ]
    },
    {
      "cell_type": "code",
      "metadata": {
        "id": "bDowH4L4lYfM",
        "colab_type": "code",
        "outputId": "46cecacf-a659-4a2b-fcc5-89dff04fa52a",
        "colab": {
          "base_uri": "https://localhost:8080/",
          "height": 228
        }
      },
      "source": [
        "# Separate Features Variables from Target Variable\n",
        "X = data.iloc[:, 1:-1].values\n",
        "y = data.iloc[:,-1].values\n",
        "X, y"
      ],
      "execution_count": 64,
      "outputs": [
        {
          "output_type": "execute_result",
          "data": {
            "text/plain": [
              "(array([[ 1],\n",
              "        [ 2],\n",
              "        [ 3],\n",
              "        [ 4],\n",
              "        [ 5],\n",
              "        [ 6],\n",
              "        [ 7],\n",
              "        [ 8],\n",
              "        [ 9],\n",
              "        [10]]),\n",
              " array([  45000,   50000,   60000,   80000,  110000,  150000,  200000,\n",
              "         300000,  500000, 1000000]))"
            ]
          },
          "metadata": {
            "tags": []
          },
          "execution_count": 64
        }
      ]
    },
    {
      "cell_type": "markdown",
      "metadata": {
        "id": "gPhgkxqpaaGa",
        "colab_type": "text"
      },
      "source": [
        "Note : \n",
        "- Regarding the nature of the dataset, we cannot split the dataset. All recors have to be included.\n",
        "\n"
      ]
    },
    {
      "cell_type": "code",
      "metadata": {
        "id": "K-YIQrGPdbb4",
        "colab_type": "code",
        "colab": {
          "base_uri": "https://localhost:8080/",
          "height": 282
        },
        "outputId": "c414b1bb-7485-4145-a057-194ba40965b1"
      },
      "source": [
        "plt.scatter(X, y, c = 'blue')"
      ],
      "execution_count": 65,
      "outputs": [
        {
          "output_type": "execute_result",
          "data": {
            "text/plain": [
              "<matplotlib.collections.PathCollection at 0x7f8a3eb28550>"
            ]
          },
          "metadata": {
            "tags": []
          },
          "execution_count": 65
        },
        {
          "output_type": "display_data",
          "data": {
            "image/png": "[encoded data removed]",
            "text/plain": [
              "<Figure size 432x288 with 1 Axes>"
            ]
          },
          "metadata": {
            "tags": []
          }
        }
      ]
    },
    {
      "cell_type": "code",
      "metadata": {
        "id": "ZRRIZc6kcIY6",
        "colab_type": "code",
        "colab": {}
      },
      "source": [
        "# Apply Feature Scaling as the SVR library does not apply it automatically \n",
        "from sklearn.preprocessing import StandardScaler\n",
        "scale_X = StandardScaler()\n",
        "scale_y = StandardScaler()\n",
        "X = scale_X.fit_transform(X)\n",
        "y = y.reshape(-1,1)\n",
        "y = scale_y.fit_transform(y)"
      ],
      "execution_count": 0,
      "outputs": []
    },
    {
      "cell_type": "code",
      "metadata": {
        "id": "2POKXAixlE0N",
        "colab_type": "code",
        "outputId": "b1c19a00-b79d-4f15-d2cc-1a77df890215",
        "colab": {
          "base_uri": "https://localhost:8080/",
          "height": 282
        }
      },
      "source": [
        "plt.scatter(X, y, c = 'blue')"
      ],
      "execution_count": 67,
      "outputs": [
        {
          "output_type": "execute_result",
          "data": {
            "text/plain": [
              "<matplotlib.collections.PathCollection at 0x7f8a3ea825c0>"
            ]
          },
          "metadata": {
            "tags": []
          },
          "execution_count": 67
        },
        {
          "output_type": "display_data",
          "data": {
            "image/png": "[encoded data removed]",
            "text/plain": [
              "<Figure size 432x288 with 1 Axes>"
            ]
          },
          "metadata": {
            "tags": []
          }
        }
      ]
    },
    {
      "cell_type": "markdown",
      "metadata": {
        "id": "Vsbq1TzTGpmg",
        "colab_type": "text"
      },
      "source": [
        "### **Apply the model to the dataset**\n",
        "\n"
      ]
    },
    {
      "cell_type": "code",
      "metadata": {
        "id": "lDas2p12DosS",
        "colab_type": "code",
        "outputId": "2d87feea-5061-405f-c7c4-c5b605d6c0ee",
        "colab": {
          "base_uri": "https://localhost:8080/",
          "height": 107
        }
      },
      "source": [
        "from sklearn.svm import SVR\n",
        "regressor = SVR(kernel = 'rbf')  # choose a non linear Kernet as the problem is not linear.\n",
        "regressor.fit(X, y)"
      ],
      "execution_count": 68,
      "outputs": [
        {
          "output_type": "stream",
          "text": [
            "/usr/local/lib/python3.6/dist-packages/sklearn/utils/validation.py:760: DataConversionWarning: A column-vector y was passed when a 1d array was expected. Please change the shape of y to (n_samples, ), for example using ravel().\n",
            "  y = column_or_1d(y, warn=True)\n"
          ],
          "name": "stderr"
        },
        {
          "output_type": "execute_result",
          "data": {
            "text/plain": [
              "SVR(C=1.0, cache_size=200, coef0=0.0, degree=3, epsilon=0.1, gamma='scale',\n",
              "    kernel='rbf', max_iter=-1, shrinking=True, tol=0.001, verbose=False)"
            ]
          },
          "metadata": {
            "tags": []
          },
          "execution_count": 68
        }
      ]
    },
    {
      "cell_type": "markdown",
      "metadata": {
        "id": "pFVHuGG6__Vm",
        "colab_type": "text"
      },
      "source": [
        "### **Predict new results**"
      ]
    },
    {
      "cell_type": "code",
      "metadata": {
        "id": "UAy3iG-342xK",
        "colab_type": "code",
        "outputId": "732574bf-626a-4791-a864-d2f1f572f738",
        "colab": {
          "base_uri": "https://localhost:8080/",
          "height": 34
        }
      },
      "source": [
        "# Predict the salary associated to level 6.5 using SVR (has to be compared with the results in Polynomial notebook)\n",
        "c= scale_y.inverse_transform(regressor.predict(scale_X.transform([[6.5]])))\n",
        "c"
      ],
      "execution_count": 69,
      "outputs": [
        {
          "output_type": "execute_result",
          "data": {
            "text/plain": [
              "array([170370.0204065])"
            ]
          },
          "metadata": {
            "tags": []
          },
          "execution_count": 69
        }
      ]
    },
    {
      "cell_type": "markdown",
      "metadata": {
        "id": "CvkK4kOKG5M8",
        "colab_type": "text"
      },
      "source": [
        "### **Visualize the results**"
      ]
    },
    {
      "cell_type": "code",
      "metadata": {
        "id": "5A07R3MPDoyF",
        "colab_type": "code",
        "outputId": "ec7129e2-5464-41da-e853-2261c83cbb53",
        "colab": {
          "base_uri": "https://localhost:8080/",
          "height": 295
        }
      },
      "source": [
        "X_grid = np.arange(min(X), max(X), 0.1)\n",
        "X_grid = X_grid.reshape((len(X_grid), 1))\n",
        "\n",
        "plt.scatter(X, y, c = 'blue')\n",
        "plt.plot(X_grid, regressor.predict(X_grid), c = 'green')\n",
        "\n",
        "plt.title('SVR Regression')\n",
        "plt.xlabel('Position Level')\n",
        "plt.ylabel('Salary')\n",
        "plt.show()"
      ],
      "execution_count": 70,
      "outputs": [
        {
          "output_type": "display_data",
          "data": {
            "image/png": "[encoded data removed]",
            "text/plain": [
              "<Figure size 432x288 with 1 Axes>"
            ]
          },
          "metadata": {
            "tags": []
          }
        }
      ]
    },
    {
      "cell_type": "markdown",
      "metadata": {
        "id": "AeIgFMMBe5KZ",
        "colab_type": "text"
      },
      "source": [
        "Note: The model does not fit to the level 10 as this position level is considered as an outlier."
      ]
    },
    {
      "cell_type": "markdown",
      "metadata": {
        "id": "V6H8Dnw4HfyW",
        "colab_type": "text"
      },
      "source": [
        "### **Test the performance of the model**"
      ]
    },
    {
      "cell_type": "code",
      "metadata": {
        "id": "jh_tOea4hZkG",
        "colab_type": "code",
        "colab": {
          "base_uri": "https://localhost:8080/",
          "height": 132
        },
        "outputId": "f68642fd-75e6-4a17-dfa1-15b4105c80cf"
      },
      "source": [
        "y_pred = \n",
        "error = (y-y_pred)*100/y   # Error in %\n",
        "error"
      ],
      "execution_count": 71,
      "outputs": [
        {
          "output_type": "error",
          "ename": "SyntaxError",
          "evalue": "ignored",
          "traceback": [
            "\u001b[0;36m  File \u001b[0;32m\"<ipython-input-71-8b6821345f00>\"\u001b[0;36m, line \u001b[0;32m1\u001b[0m\n\u001b[0;31m    y_pred =\u001b[0m\n\u001b[0m             ^\u001b[0m\n\u001b[0;31mSyntaxError\u001b[0m\u001b[0;31m:\u001b[0m invalid syntax\n"
          ]
        }
      ]
    },
    {
      "cell_type": "code",
      "metadata": {
        "id": "7YS7m5CMDo1Z",
        "colab_type": "code",
        "colab": {}
      },
      "source": [
        ""
      ],
      "execution_count": 0,
      "outputs": []
    }
  ]
}