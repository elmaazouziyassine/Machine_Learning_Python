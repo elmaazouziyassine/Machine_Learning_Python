{
  "nbformat": 4,
  "nbformat_minor": 0,
  "metadata": {
    "colab": {
      "name": "Mean, Median & Mode.ipynb",
      "provenance": [],
      "authorship_tag": "ABX9TyPK7SiNNUr3DNv5UTgq4ND2",
      "include_colab_link": true
    },
    "kernelspec": {
      "name": "python3",
      "display_name": "Python 3"
    }
  },
  "cells": [
    {
      "cell_type": "markdown",
      "metadata": {
        "id": "view-in-github",
        "colab_type": "text"
      },
      "source": [
        "<a href=\"https://colab.research.google.com/github/elmaazouziyassine/Machine_Learning_Python/blob/master/Probability%20%26%20Statistics/Mean%20Median%20Mode.ipynb\" target=\"_parent\"><img src=\"https://colab.research.google.com/assets/colab-badge.svg\" alt=\"Open In Colab\"/></a>"
      ]
    },
    {
      "cell_type": "markdown",
      "metadata": {
        "id": "f4_yAPSiIoHc",
        "colab_type": "text"
      },
      "source": [
        "# **Mean, Median & Mode**"
      ]
    },
    {
      "cell_type": "markdown",
      "metadata": {
        "id": "GO6sqsXeOKyW",
        "colab_type": "text"
      },
      "source": [
        "### **Mean & Medium**"
      ]
    },
    {
      "cell_type": "markdown",
      "metadata": {
        "id": "9na7rV3TIyZq",
        "colab_type": "text"
      },
      "source": [
        "- **Mean** = Sum of samples / number of samples . It is the AKA average.\n",
        "- **Median** = Sort the values, and take the value at the midpoint\n",
        "    - In the case of an even number of samples, take the average of the two in the middle.\n",
        "\n",
        "\n",
        "**Median is less susceptible to outliers than the mean**\n",
        "    - Example: mean household income in the US is 72 641$, but the median is 51 939& because the mean is skewed by a handful of billionaires.\n",
        "    - Median better represents the \"typical\" American income in this example."
      ]
    },
    {
      "cell_type": "markdown",
      "metadata": {
        "id": "y49U5pFRJysX",
        "colab_type": "text"
      },
      "source": [
        "**Create fake 10000 income data that followed a normal distribution : centered around 50000$ with a standard deviation of 10000.**"
      ]
    },
    {
      "cell_type": "code",
      "metadata": {
        "id": "35nEqfQEH9oC",
        "colab_type": "code",
        "colab": {
          "base_uri": "https://localhost:8080/",
          "height": 0
        },
        "outputId": "a8de9a94-2ee1-4527-d25d-fc92a8a440a0"
      },
      "source": [
        "%matplotlib inline\n",
        "import matplotlib.pyplot as plt\n",
        "import numpy as np\n",
        "\n",
        "incomes = np.random.normal(50000, 10000, 10000)\n",
        "\n",
        "plt.plot(incomes)\n",
        "plt.show()"
      ],
      "execution_count": 29,
      "outputs": [
        {
          "output_type": "display_data",
          "data": {
            "image/png": "[encoded data removed]",
            "text/plain": [
              "<Figure size 432x288 with 1 Axes>"
            ]
          },
          "metadata": {
            "tags": []
          }
        }
      ]
    },
    {
      "cell_type": "markdown",
      "metadata": {
        "id": "c1FB78goMUSE",
        "colab_type": "text"
      },
      "source": [
        "**Segment the income data into 100 buckets and plot it as a histogram**"
      ]
    },
    {
      "cell_type": "code",
      "metadata": {
        "id": "Qy-drQBVKobg",
        "colab_type": "code",
        "colab": {
          "base_uri": "https://localhost:8080/",
          "height": 0
        },
        "outputId": "046c4fc8-8778-4a94-c417-a73f87c7bec0"
      },
      "source": [
        "plt.hist(incomes, 100)\n",
        "plt.show()"
      ],
      "execution_count": 30,
      "outputs": [
        {
          "output_type": "display_data",
          "data": {
            "image/png": "[encoded data removed]",
            "text/plain": [
              "<Figure size 432x288 with 1 Axes>"
            ]
          },
          "metadata": {
            "tags": []
          }
        }
      ]
    },
    {
      "cell_type": "markdown",
      "metadata": {
        "id": "9l-Oo3SHOWsD",
        "colab_type": "text"
      },
      "source": [
        "**Calculate the mean and the median**"
      ]
    },
    {
      "cell_type": "code",
      "metadata": {
        "id": "LIcgSCjvMiVp",
        "colab_type": "code",
        "colab": {
          "base_uri": "https://localhost:8080/",
          "height": 0
        },
        "outputId": "1f1c74a6-5691-4d15-8a6e-87f43c281648"
      },
      "source": [
        "np.mean(incomes), np.median(incomes)"
      ],
      "execution_count": 31,
      "outputs": [
        {
          "output_type": "execute_result",
          "data": {
            "text/plain": [
              "(50066.91759694568, 50084.20441820673)"
            ]
          },
          "metadata": {
            "tags": []
          },
          "execution_count": 31
        }
      ]
    },
    {
      "cell_type": "markdown",
      "metadata": {
        "id": "GixoInNJM3Nv",
        "colab_type": "text"
      },
      "source": [
        "**Add Donald Trump salary to the incomes and recalculate the mean and the median**"
      ]
    },
    {
      "cell_type": "code",
      "metadata": {
        "id": "pDp2b04BM23K",
        "colab_type": "code",
        "colab": {}
      },
      "source": [
        "incomes = np.append(incomes, [1000000000])"
      ],
      "execution_count": 0,
      "outputs": []
    },
    {
      "cell_type": "code",
      "metadata": {
        "id": "6darLf49NGwK",
        "colab_type": "code",
        "colab": {
          "base_uri": "https://localhost:8080/",
          "height": 0
        },
        "outputId": "9567806f-e1f3-490d-e54e-5743f5dbf5c4"
      },
      "source": [
        "np.mean(incomes), np.median(incomes)"
      ],
      "execution_count": 33,
      "outputs": [
        {
          "output_type": "execute_result",
          "data": {
            "text/plain": [
              "(150051.9124057051, 50084.787112412276)"
            ]
          },
          "metadata": {
            "tags": []
          },
          "execution_count": 33
        }
      ]
    },
    {
      "cell_type": "markdown",
      "metadata": {
        "id": "fudYb7ScNdRP",
        "colab_type": "text"
      },
      "source": [
        "The median is more representative than the mean."
      ]
    },
    {
      "cell_type": "markdown",
      "metadata": {
        "id": "GummEKr_OhK7",
        "colab_type": "text"
      },
      "source": [
        "### **Mode**"
      ]
    },
    {
      "cell_type": "markdown",
      "metadata": {
        "id": "4KyKuW25OIg4",
        "colab_type": "text"
      },
      "source": [
        "- **Mode** is the most common value in a data set.\n",
        "- Not relevant in case of continuous numerical data."
      ]
    },
    {
      "cell_type": "code",
      "metadata": {
        "id": "ziW1QW3nOIQc",
        "colab_type": "code",
        "colab": {
          "base_uri": "https://localhost:8080/",
          "height": 0
        },
        "outputId": "f105aeae-2bf7-4504-e192-afe109a88faa"
      },
      "source": [
        "ages = np.random.randint(10, 90, size=500)\n",
        "ages"
      ],
      "execution_count": 34,
      "outputs": [
        {
          "output_type": "execute_result",
          "data": {
            "text/plain": [
              "array([36, 48, 51, 84, 18, 20, 48, 88, 20, 51, 71, 83, 75, 12, 12, 85, 77,\n",
              "       28, 36, 85, 88, 32, 17, 77, 30, 64, 12, 34, 85, 26, 53, 88, 49, 31,\n",
              "       12, 50, 80, 82, 56, 17, 28, 17, 33, 83, 50, 83, 61, 17, 57, 80, 81,\n",
              "       65, 72, 79, 85, 27, 32, 81, 82, 61, 46, 88, 73, 51, 17, 59, 16, 28,\n",
              "       47, 62, 42, 79, 37, 11, 63, 49, 87, 54, 27, 21, 55, 14, 25, 34, 30,\n",
              "       81, 70, 13, 69, 88, 57, 53, 32, 24, 49, 42, 40, 83, 89, 11, 33, 31,\n",
              "       83, 79, 24, 49, 28, 80, 28, 67, 75, 82, 51, 59, 88, 73, 12, 14, 74,\n",
              "       23, 45, 29, 89, 55, 78, 71, 13, 65, 51, 69, 73, 78, 71, 33, 81, 19,\n",
              "       54, 27, 84, 43, 48, 39, 17, 21, 72, 65, 12, 15, 43, 71, 47, 75, 34,\n",
              "       32, 82, 34, 54, 28, 86, 60, 84, 23, 54, 73, 39, 16, 10, 89, 12, 48,\n",
              "       47, 69, 27, 57, 18, 89, 58, 62, 76, 52, 14, 24, 55, 59, 48, 69, 57,\n",
              "       64, 71, 84, 32, 45, 69, 31, 68, 60, 84, 27, 85, 37, 49, 49, 18, 21,\n",
              "       24, 54, 61, 74, 47, 85, 21, 85, 15, 40, 73, 18, 11, 71, 52, 16, 51,\n",
              "       70, 20, 40, 57, 23, 73, 48, 75, 27, 89, 38, 30, 38, 58, 74, 73, 38,\n",
              "       44, 54, 11, 64, 42, 23, 71, 82, 47, 76, 52, 57, 32, 22, 66, 69, 79,\n",
              "       23, 73, 32, 70, 55, 30, 11, 27, 79, 33, 64, 79, 60, 36, 31, 77, 39,\n",
              "       83, 51, 25, 41, 77, 37, 16, 39, 31, 33, 44, 21, 12, 14, 83, 89, 88,\n",
              "       79, 42, 83, 82, 13, 25, 22, 14, 20, 61, 42, 75, 58, 66, 82, 24, 54,\n",
              "       81, 75, 53, 81, 71, 52, 50, 72, 82, 85, 56, 59, 30, 72, 67, 31, 19,\n",
              "       65, 20, 28, 76, 28, 57, 66, 48, 28, 52, 52, 59, 35, 36, 23, 84, 12,\n",
              "       14, 35, 45, 71, 45, 80, 67, 24, 30, 29, 19, 59, 68, 27, 41, 40, 28,\n",
              "       41, 26, 60, 25, 10, 44, 28, 17, 24, 14, 56, 28, 20, 45, 63, 39, 12,\n",
              "       57, 48, 31, 24, 54, 29, 37, 23, 37, 58, 38, 53, 55, 62, 44, 12, 69,\n",
              "       52, 24, 83, 76, 43, 26, 46, 57, 84, 16, 85, 19, 39, 17, 39, 15, 53,\n",
              "       24, 46, 46, 63, 28, 66, 55, 71, 72, 25, 59, 46, 84, 12, 48, 55, 69,\n",
              "       85, 18, 14, 62, 26, 17, 89, 34, 77, 10, 20, 25, 83, 72, 26, 14, 60,\n",
              "       27, 83, 74, 75, 48, 63, 34, 32, 40, 71, 35, 21, 36, 27, 73, 36, 35,\n",
              "       24, 26, 39, 79, 15, 67, 22, 64, 17, 34, 52, 39, 79, 77, 81, 52, 29,\n",
              "       45, 78, 81, 29, 11, 78, 76, 66, 16, 64, 81, 31, 56, 21, 39, 22, 30,\n",
              "       78, 24, 69, 55, 87, 49, 75])"
            ]
          },
          "metadata": {
            "tags": []
          },
          "execution_count": 34
        }
      ]
    },
    {
      "cell_type": "code",
      "metadata": {
        "id": "gfHcJKtANc6Q",
        "colab_type": "code",
        "colab": {
          "base_uri": "https://localhost:8080/",
          "height": 0
        },
        "outputId": "6820dcb3-5d66-4888-e495-ca41a6d5c6d4"
      },
      "source": [
        "from scipy import stats\n",
        "stats.mode(ages)"
      ],
      "execution_count": 35,
      "outputs": [
        {
          "output_type": "execute_result",
          "data": {
            "text/plain": [
              "ModeResult(mode=array([28]), count=array([13]))"
            ]
          },
          "metadata": {
            "tags": []
          },
          "execution_count": 35
        }
      ]
    }
  ]
}