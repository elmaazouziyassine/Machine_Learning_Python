{
  "nbformat": 4,
  "nbformat_minor": 0,
  "metadata": {
    "colab": {
      "name": "Moments.ipynb",
      "provenance": [],
      "collapsed_sections": [],
      "authorship_tag": "ABX9TyOUqjm5woA2m46xfJysjsEW",
      "include_colab_link": true
    },
    "kernelspec": {
      "name": "python3",
      "display_name": "Python 3"
    }
  },
  "cells": [
    {
      "cell_type": "markdown",
      "metadata": {
        "id": "view-in-github",
        "colab_type": "text"
      },
      "source": [
        "<a href=\"https://colab.research.google.com/github/elmaazouziyassine/Machine_Learning_Python/blob/master/Probability%20%26%20Statistics/Moments.ipynb\" target=\"_parent\"><img src=\"https://colab.research.google.com/assets/colab-badge.svg\" alt=\"Open In Colab\"/></a>"
      ]
    },
    {
      "cell_type": "markdown",
      "metadata": {
        "id": "9xIAsWkEirS3",
        "colab_type": "text"
      },
      "source": [
        "# **Moments**"
      ]
    },
    {
      "cell_type": "markdown",
      "metadata": {
        "id": "PML8cdzTivou",
        "colab_type": "text"
      },
      "source": [
        "Moments are quantitatives measures of the shape of a probability density function.\n",
        "- **1st Moment** : Mean\n",
        "- **2nd Moment** : Variance\n",
        "- **3rd Moment** : Skew (𝛾)\n",
        "    - How \"lopsided\" is the distribution? \n",
        "    - A distribution with a longer tail on the left will be skewed left, and have a negative skew.\n",
        "- **4th Moment** : Kurtosis\n",
        "    - How thick is the tail, and how sharp is the peak, compared to a normal distribution?\n",
        "    - Example: higher peaks have higher kurtosis"
      ]
    },
    {
      "cell_type": "code",
      "metadata": {
        "id": "g5lKgbryirEm",
        "colab_type": "code",
        "colab": {
          "base_uri": "https://localhost:8080/",
          "height": 265
        },
        "outputId": "f63b5e7b-2320-4a3a-d1a0-f65a72c6a241"
      },
      "source": [
        "%matplotlib inline\n",
        "import numpy as np\n",
        "import matplotlib.pyplot as plt\n",
        "\n",
        "x = np.random.normal(10, 1, 10000)\n",
        "\n",
        "plt.hist(x, 50)\n",
        "plt.show()"
      ],
      "execution_count": 7,
      "outputs": [
        {
          "output_type": "display_data",
          "data": {
            "image/png": "[encoded data removed]",
            "text/plain": [
              "<Figure size 432x288 with 1 Axes>"
            ]
          },
          "metadata": {
            "tags": []
          }
        }
      ]
    },
    {
      "cell_type": "code",
      "metadata": {
        "id": "Yd8Hvxz0iohL",
        "colab_type": "code",
        "colab": {
          "base_uri": "https://localhost:8080/",
          "height": 34
        },
        "outputId": "dbc3f1a4-e386-4521-8682-646abf6180d7"
      },
      "source": [
        "np.mean(x)"
      ],
      "execution_count": 8,
      "outputs": [
        {
          "output_type": "execute_result",
          "data": {
            "text/plain": [
              "10.005575015781139"
            ]
          },
          "metadata": {
            "tags": []
          },
          "execution_count": 8
        }
      ]
    },
    {
      "cell_type": "code",
      "metadata": {
        "id": "XLGy3_3hjJpL",
        "colab_type": "code",
        "colab": {
          "base_uri": "https://localhost:8080/",
          "height": 34
        },
        "outputId": "d4841e60-b071-4cbd-cbdd-57968db2f9d2"
      },
      "source": [
        "np.std(x)"
      ],
      "execution_count": 9,
      "outputs": [
        {
          "output_type": "execute_result",
          "data": {
            "text/plain": [
              "1.0085491134303881"
            ]
          },
          "metadata": {
            "tags": []
          },
          "execution_count": 9
        }
      ]
    },
    {
      "cell_type": "code",
      "metadata": {
        "id": "OvdSjGghjPmn",
        "colab_type": "code",
        "colab": {
          "base_uri": "https://localhost:8080/",
          "height": 34
        },
        "outputId": "bc5a0781-aa74-4ad8-c8b5-2cc312915aff"
      },
      "source": [
        "import scipy.stats as sp\n",
        "sp.skew(x)"
      ],
      "execution_count": 10,
      "outputs": [
        {
          "output_type": "execute_result",
          "data": {
            "text/plain": [
              "-0.019530746497306788"
            ]
          },
          "metadata": {
            "tags": []
          },
          "execution_count": 10
        }
      ]
    },
    {
      "cell_type": "markdown",
      "metadata": {
        "id": "eEDfe7mJjcXT",
        "colab_type": "text"
      },
      "source": [
        "As the data is nicely centered around 0, the skew should be almost 0."
      ]
    },
    {
      "cell_type": "code",
      "metadata": {
        "id": "wc_wHJQXjmkr",
        "colab_type": "code",
        "colab": {
          "base_uri": "https://localhost:8080/",
          "height": 34
        },
        "outputId": "180e9af0-fdd7-4335-9c18-3438ddf3cd62"
      },
      "source": [
        "import scipy.stats as sp\n",
        "sp.kurtosis(x)"
      ],
      "execution_count": 11,
      "outputs": [
        {
          "output_type": "execute_result",
          "data": {
            "text/plain": [
              "0.05191913578082863"
            ]
          },
          "metadata": {
            "tags": []
          },
          "execution_count": 11
        }
      ]
    }
  ]
}