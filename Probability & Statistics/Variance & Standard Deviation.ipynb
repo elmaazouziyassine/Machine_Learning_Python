{
  "nbformat": 4,
  "nbformat_minor": 0,
  "metadata": {
    "colab": {
      "name": "Variance & Standard Deviation.ipynb",
      "provenance": [],
      "authorship_tag": "ABX9TyPa9LhtuHk1UuCGPrTGJBui",
      "include_colab_link": true
    },
    "kernelspec": {
      "name": "python3",
      "display_name": "Python 3"
    }
  },
  "cells": [
    {
      "cell_type": "markdown",
      "metadata": {
        "id": "view-in-github",
        "colab_type": "text"
      },
      "source": [
        "<a href=\"https://colab.research.google.com/github/elmaazouziyassine/Machine_Learning_Python/blob/master/Probability%20%26%20Statistics/Variance%20%26%20Standard%20Deviation.ipynb\" target=\"_parent\"><img src=\"https://colab.research.google.com/assets/colab-badge.svg\" alt=\"Open In Colab\"/></a>"
      ]
    },
    {
      "cell_type": "markdown",
      "metadata": {
        "id": "swtAxX6jTL6B",
        "colab_type": "text"
      },
      "source": [
        "# **Variance & Standard Deviation**"
      ]
    },
    {
      "cell_type": "markdown",
      "metadata": {
        "id": "2ZAY9bD-TUZm",
        "colab_type": "text"
      },
      "source": [
        "- Variance (𝜎^2) measures how \"spread-out' the data is. \n",
        "- It is simply the average of the squared differences from the \n",
        "mean\n",
        "- Standard Deviation is just the square root of the variance.\n",
        "\n",
        "- Example: What is the variance of the data set (1, 4, 5, 4, 8)?\n",
        "  - First find the mean: (1+4+5+4+8)/5 = 4.4\n",
        "  - Find the differences from the mean: (-3.4, -0.4, 0.6, -0.4, 3.6)\n",
        "  - Find the squared differences: (11.56, 0.16, 0.36, 0.16, 12.96)\n",
        "  - Find the average of the squared differences: 𝜎^2 = (11.56 + 0.16 + 0.36 + 0.16 + 12.96) / 5 = 5.04\n",
        "\n",
        "- Standard Deviation is usually used as a way to identify outiers. Data points that lie more than one standard deviation from the mean can be considered unusual.\n",
        "- We can talk about how extreme a data point is by talking about \"how many sigmas\" away from the mean it is."
      ]
    },
    {
      "cell_type": "code",
      "metadata": {
        "id": "23oLlDIIQDXL",
        "colab_type": "code",
        "colab": {
          "base_uri": "https://localhost:8080/",
          "height": 282
        },
        "outputId": "b79aa3ca-c813-46c0-dfb3-dfe3f290e683"
      },
      "source": [
        "%matplotlib inline\n",
        "import matplotlib.pyplot as plt\n",
        "import numpy as np\n",
        "\n",
        "incomes = np.random.normal(50000, 10000, 10000)\n",
        "\n",
        "plt.plot(incomes)\n",
        "plt.show()\n",
        "np.mean(incomes) , np.median(incomes)"
      ],
      "execution_count": 1,
      "outputs": [
        {
          "output_type": "display_data",
          "data": {
            "image/png": "[encoded data removed]",
            "text/plain": [
              "<Figure size 432x288 with 1 Axes>"
            ]
          },
          "metadata": {
            "tags": []
          }
        },
        {
          "output_type": "execute_result",
          "data": {
            "text/plain": [
              "(49955.9865231189, 49931.79814779114)"
            ]
          },
          "metadata": {
            "tags": []
          },
          "execution_count": 1
        }
      ]
    },
    {
      "cell_type": "code",
      "metadata": {
        "id": "owHjaQsKVCef",
        "colab_type": "code",
        "colab": {
          "base_uri": "https://localhost:8080/",
          "height": 34
        },
        "outputId": "11a88cd4-549e-4f9d-860d-dbfed0755788"
      },
      "source": [
        "np.var(incomes) , np.std(incomes)"
      ],
      "execution_count": 3,
      "outputs": [
        {
          "output_type": "execute_result",
          "data": {
            "text/plain": [
              "(98491875.04432935, 9924.307282844951)"
            ]
          },
          "metadata": {
            "tags": []
          },
          "execution_count": 3
        }
      ]
    },
    {
      "cell_type": "code",
      "metadata": {
        "id": "WLOWkpvWVMCR",
        "colab_type": "code",
        "colab": {
          "base_uri": "https://localhost:8080/",
          "height": 34
        },
        "outputId": "10dd082b-e642-4734-fbf4-f26942116181"
      },
      "source": [
        "incomes.var() , incomes.std()"
      ],
      "execution_count": 4,
      "outputs": [
        {
          "output_type": "execute_result",
          "data": {
            "text/plain": [
              "(98491875.04432935, 9924.307282844951)"
            ]
          },
          "metadata": {
            "tags": []
          },
          "execution_count": 4
        }
      ]
    },
    {
      "cell_type": "markdown",
      "metadata": {
        "id": "qnX5sHzrVT6e",
        "colab_type": "text"
      },
      "source": [
        "### Population vs. Sample\n",
        "In case of working with a sample of data instead of an entire data set (the entire population), then use the **Sample variance** instead of the **Population variance**.\n",
        "\n",
        "- For N samples, you just divide the squared variances by N-1 instead of N.\n",
        "- So, in our example, we computed the population variance like this: 𝜎^2 = (11.56 + 0.16 + 0.36 + 0.16 + 12.96) / 5 = 5.04\n",
        "\n",
        "- But the sample variance would be:\n",
        "𝜎^2 = (11.56 + 0.16 + 0.36 + 0.16 + 12.96) / 4 = 6.3"
      ]
    }
  ]
}