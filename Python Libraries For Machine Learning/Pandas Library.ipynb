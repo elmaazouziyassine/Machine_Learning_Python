{
  "nbformat": 4,
  "nbformat_minor": 0,
  "metadata": {
    "colab": {
      "name": "Pandas Library",
      "provenance": [],
      "collapsed_sections": [],
      "include_colab_link": true
    },
    "kernelspec": {
      "name": "python3",
      "display_name": "Python 3"
    }
  },
  "cells": [
    {
      "cell_type": "markdown",
      "metadata": {
        "id": "view-in-github",
        "colab_type": "text"
      },
      "source": [
        "<a href=\"https://colab.research.google.com/github/elmaazouziyassine/Machine_Learning_Python/blob/master/Python%20Libraries%20For%20Machine%20Learning/Pandas%20Library.ipynb\" target=\"_parent\"><img src=\"https://colab.research.google.com/assets/colab-badge.svg\" alt=\"Open In Colab\"/></a>"
      ]
    },
    {
      "cell_type": "markdown",
      "metadata": {
        "id": "AKBL3XiDdNj6",
        "colab_type": "text"
      },
      "source": [
        "# **Pandas Library**"
      ]
    },
    {
      "cell_type": "markdown",
      "metadata": {
        "id": "dzqOZi3DdQXo",
        "colab_type": "text"
      },
      "source": [
        "### **Introduction**"
      ]
    },
    {
      "cell_type": "markdown",
      "metadata": {
        "id": "SBW1LaBwdWUj",
        "colab_type": "text"
      },
      "source": [
        "##### **What is Pandas?**"
      ]
    },
    {
      "cell_type": "markdown",
      "metadata": {
        "id": "PGBP_4-WdYcu",
        "colab_type": "text"
      },
      "source": [
        "- Pandas is a Python library that provides fast data cleaning, preparation, and analysis and is easy to use for data visualization and machine learning.\n",
        "\n",
        "- Pandas is built on top of NumPy, which makes it easy to work with arrays and matrices (called Series and DataFrames in Pandas)\n",
        "\n",
        "- A DataFrame Object: \n",
        "  - acts like a spreadsheet of rows & columns in Excel\n",
        "  - Made up of a set of Series objects (rows and columns)\n",
        "  - is indexable\n",
        "\n",
        "- It is easy to create a Pandas DataFrame from a Numpy Array. \n",
        "Pandas DataFrames can be cast as NumPy arrays."
      ]
    },
    {
      "cell_type": "markdown",
      "metadata": {
        "id": "ul_SrsIZeGXo",
        "colab_type": "text"
      },
      "source": [
        "##### **How to create Pandas Series?**\n"
      ]
    },
    {
      "cell_type": "code",
      "metadata": {
        "id": "ly4ucrx_eAO4",
        "colab_type": "code",
        "colab": {}
      },
      "source": [
        "import pandas as pd\n",
        "from pandas import Series, DataFrame\n",
        "import numpy as np"
      ],
      "execution_count": 0,
      "outputs": []
    },
    {
      "cell_type": "code",
      "metadata": {
        "id": "HdOThXWqevFB",
        "colab_type": "code",
        "outputId": "92904241-598d-4f09-e632-ce9022cd0a0d",
        "colab": {
          "base_uri": "https://localhost:8080/",
          "height": 246
        }
      },
      "source": [
        "mySeries = Series(np.arange(8), index=['row 1', 'row 2','row 3','row 4','row 5', 'row 6', 'row 7', 'row 8'])\n",
        "print(mySeries)\n",
        "print(mySeries['row 7'])\n",
        "print(mySeries[[0,7]])"
      ],
      "execution_count": 30,
      "outputs": [
        {
          "output_type": "stream",
          "text": [
            "row 1    0\n",
            "row 2    1\n",
            "row 3    2\n",
            "row 4    3\n",
            "row 5    4\n",
            "row 6    5\n",
            "row 7    6\n",
            "row 8    7\n",
            "dtype: int64\n",
            "6\n",
            "row 1    0\n",
            "row 8    7\n",
            "dtype: int64\n"
          ],
          "name": "stdout"
        }
      ]
    },
    {
      "cell_type": "markdown",
      "metadata": {
        "id": "B3rxNHSGfBpN",
        "colab_type": "text"
      },
      "source": [
        "##### **How to create a DataFrame?**\n"
      ]
    },
    {
      "cell_type": "code",
      "metadata": {
        "id": "4RDBruRffA2I",
        "colab_type": "code",
        "outputId": "1f5f120c-281a-4e57-b65b-6671201b8a0c",
        "colab": {
          "base_uri": "https://localhost:8080/",
          "height": 298
        }
      },
      "source": [
        "np.random.seed(25)\n",
        "myDF = DataFrame(np.random.rand(16).reshape((4,4)), \n",
        "                   index=['row 1', 'row 2', 'row 3', 'row 4'],\n",
        "                   columns=['column 1', 'column 2', 'column 3', 'column 4'])\n",
        "print(myDF)\n",
        "print(myDF.ix[['row 2', 'row 4'], ['column 3', 'column 2']])"
      ],
      "execution_count": 31,
      "outputs": [
        {
          "output_type": "stream",
          "text": [
            "       column 1  column 2  column 3  column 4\n",
            "row 1  0.870124  0.582277  0.278839  0.185911\n",
            "row 2  0.411100  0.117376  0.684969  0.437611\n",
            "row 3  0.556229  0.367080  0.402366  0.113041\n",
            "row 4  0.447031  0.585445  0.161985  0.520719\n",
            "       column 3  column 2\n",
            "row 2  0.684969  0.117376\n",
            "row 4  0.161985  0.585445\n"
          ],
          "name": "stdout"
        },
        {
          "output_type": "stream",
          "text": [
            "/usr/local/lib/python3.6/dist-packages/ipykernel_launcher.py:6: FutureWarning: \n",
            ".ix is deprecated. Please use\n",
            ".loc for label based indexing or\n",
            ".iloc for positional indexing\n",
            "\n",
            "See the documentation here:\n",
            "http://pandas.pydata.org/pandas-docs/stable/user_guide/indexing.html#ix-indexer-is-deprecated\n",
            "  \n"
          ],
          "name": "stderr"
        }
      ]
    },
    {
      "cell_type": "markdown",
      "metadata": {
        "id": "MLdE1dWhh2DO",
        "colab_type": "text"
      },
      "source": [
        "### **Inspecting DataFrames**"
      ]
    },
    {
      "cell_type": "code",
      "metadata": {
        "id": "zEXf0SkfiA0k",
        "colab_type": "code",
        "outputId": "f7272c54-f00e-49ed-9414-701a50d49d15",
        "colab": {
          "base_uri": "https://localhost:8080/",
          "height": 87
        }
      },
      "source": [
        "myDF = DataFrame(np.arange(16).reshape((4,4)), \n",
        "                   index=['row 1', 'row 2', 'row 3', 'row 4'],\n",
        "                   columns=['column 1', 'column 2', 'column 3', 'column 4'])\n",
        "\n",
        "myDF.head()\n",
        "myDF.tail()\n",
        "print(myDF.shape)\n",
        "print(myDF.size)\n",
        "print(len(myDF))\n",
        "print(myDF.columns)"
      ],
      "execution_count": 32,
      "outputs": [
        {
          "output_type": "stream",
          "text": [
            "(4, 4)\n",
            "16\n",
            "4\n",
            "Index(['column 1', 'column 2', 'column 3', 'column 4'], dtype='object')\n"
          ],
          "name": "stdout"
        }
      ]
    },
    {
      "cell_type": "markdown",
      "metadata": {
        "id": "b5XCboImf5wf",
        "colab_type": "text"
      },
      "source": [
        "### **DataFrame Manipulation**"
      ]
    },
    {
      "cell_type": "markdown",
      "metadata": {
        "id": "Bi35Ohtmietp",
        "colab_type": "text"
      },
      "source": [
        "##### **How to extract data from a DataFrame?**"
      ]
    },
    {
      "cell_type": "code",
      "metadata": {
        "id": "VMbG_msmimxl",
        "colab_type": "code",
        "outputId": "7a6561aa-c1aa-4837-9628-70ebccb7806b",
        "colab": {
          "base_uri": "https://localhost:8080/",
          "height": 106
        }
      },
      "source": [
        "myDF = DataFrame(np.arange(16).reshape((4,4)), \n",
        "                   index=['row 1', 'row 2', 'row 3', 'row 4'],\n",
        "                   columns=['column 1', 'column 2', 'column 3', 'column 4'])\n",
        "myDF\n",
        "myDF['column 3']\n",
        "myDF['column 3'][:2]\n",
        "myDF['column 3'][2]\n",
        "\n",
        "myDF[['column 3', 'column 4']]\n",
        "myDF[['column 3', 'column 4']][:2]"
      ],
      "execution_count": 33,
      "outputs": [
        {
          "output_type": "execute_result",
          "data": {
            "text/html": [
              "<div>\n",
              "<style scoped>\n",
              "    .dataframe tbody tr th:only-of-type {\n",
              "        vertical-align: middle;\n",
              "    }\n",
              "\n",
              "    .dataframe tbody tr th {\n",
              "        vertical-align: top;\n",
              "    }\n",
              "\n",
              "    .dataframe thead th {\n",
              "        text-align: right;\n",
              "    }\n",
              "</style>\n",
              "<table border=\"1\" class=\"dataframe\">\n",
              "  <thead>\n",
              "    <tr style=\"text-align: right;\">\n",
              "      <th></th>\n",
              "      <th>column 3</th>\n",
              "      <th>column 4</th>\n",
              "    </tr>\n",
              "  </thead>\n",
              "  <tbody>\n",
              "    <tr>\n",
              "      <th>row 1</th>\n",
              "      <td>2</td>\n",
              "      <td>3</td>\n",
              "    </tr>\n",
              "    <tr>\n",
              "      <th>row 2</th>\n",
              "      <td>6</td>\n",
              "      <td>7</td>\n",
              "    </tr>\n",
              "  </tbody>\n",
              "</table>\n",
              "</div>"
            ],
            "text/plain": [
              "       column 3  column 4\n",
              "row 1         2         3\n",
              "row 2         6         7"
            ]
          },
          "metadata": {
            "tags": []
          },
          "execution_count": 33
        }
      ]
    },
    {
      "cell_type": "markdown",
      "metadata": {
        "id": "8tzqCUrfkWZR",
        "colab_type": "text"
      },
      "source": [
        "##### **How to sorte a DataFrame by a specific column?**"
      ]
    },
    {
      "cell_type": "code",
      "metadata": {
        "id": "c2eEmAcrkbjC",
        "colab_type": "code",
        "colab": {
          "base_uri": "https://localhost:8080/",
          "height": 225
        },
        "outputId": "2a8a8335-49de-40fa-f073-480cb3ae3ccf"
      },
      "source": [
        "df = pd.DataFrame({\n",
        "    'col1': ['A', 'A', 'B', np.nan, 'D', 'C'],\n",
        "    'col2': [2, 1, 9, 8, 7, 4],\n",
        "    'col3': [0, 1, 9, 4, 2, 3],\n",
        "})\n",
        "df\n",
        "df.sort_values(by=['col1'])"
      ],
      "execution_count": 34,
      "outputs": [
        {
          "output_type": "execute_result",
          "data": {
            "text/html": [
              "<div>\n",
              "<style scoped>\n",
              "    .dataframe tbody tr th:only-of-type {\n",
              "        vertical-align: middle;\n",
              "    }\n",
              "\n",
              "    .dataframe tbody tr th {\n",
              "        vertical-align: top;\n",
              "    }\n",
              "\n",
              "    .dataframe thead th {\n",
              "        text-align: right;\n",
              "    }\n",
              "</style>\n",
              "<table border=\"1\" class=\"dataframe\">\n",
              "  <thead>\n",
              "    <tr style=\"text-align: right;\">\n",
              "      <th></th>\n",
              "      <th>col1</th>\n",
              "      <th>col2</th>\n",
              "      <th>col3</th>\n",
              "    </tr>\n",
              "  </thead>\n",
              "  <tbody>\n",
              "    <tr>\n",
              "      <th>0</th>\n",
              "      <td>A</td>\n",
              "      <td>2</td>\n",
              "      <td>0</td>\n",
              "    </tr>\n",
              "    <tr>\n",
              "      <th>1</th>\n",
              "      <td>A</td>\n",
              "      <td>1</td>\n",
              "      <td>1</td>\n",
              "    </tr>\n",
              "    <tr>\n",
              "      <th>2</th>\n",
              "      <td>B</td>\n",
              "      <td>9</td>\n",
              "      <td>9</td>\n",
              "    </tr>\n",
              "    <tr>\n",
              "      <th>5</th>\n",
              "      <td>C</td>\n",
              "      <td>4</td>\n",
              "      <td>3</td>\n",
              "    </tr>\n",
              "    <tr>\n",
              "      <th>4</th>\n",
              "      <td>D</td>\n",
              "      <td>7</td>\n",
              "      <td>2</td>\n",
              "    </tr>\n",
              "    <tr>\n",
              "      <th>3</th>\n",
              "      <td>NaN</td>\n",
              "      <td>8</td>\n",
              "      <td>4</td>\n",
              "    </tr>\n",
              "  </tbody>\n",
              "</table>\n",
              "</div>"
            ],
            "text/plain": [
              "  col1  col2  col3\n",
              "0    A     2     0\n",
              "1    A     1     1\n",
              "2    B     9     9\n",
              "5    C     4     3\n",
              "4    D     7     2\n",
              "3  NaN     8     4"
            ]
          },
          "metadata": {
            "tags": []
          },
          "execution_count": 34
        }
      ]
    },
    {
      "cell_type": "markdown",
      "metadata": {
        "id": "AXER1pR3gKV6",
        "colab_type": "text"
      },
      "source": [
        "##### **How to compare DF values to scalars?**"
      ]
    },
    {
      "cell_type": "code",
      "metadata": {
        "id": "FFBbA5uegZSG",
        "colab_type": "code",
        "outputId": "4d43b80e-c62e-40c5-afd7-82c0e5ea888c",
        "colab": {
          "base_uri": "https://localhost:8080/",
          "height": 166
        }
      },
      "source": [
        "myDF = DataFrame(np.arange(16).reshape((4,4)), \n",
        "                   index=['row 1', 'row 2', 'row 3', 'row 4'],\n",
        "                   columns=['column 1', 'column 2', 'column 3', 'column 4'])\n",
        "\n",
        "myDF\n",
        "myDF < 3"
      ],
      "execution_count": 35,
      "outputs": [
        {
          "output_type": "execute_result",
          "data": {
            "text/html": [
              "<div>\n",
              "<style scoped>\n",
              "    .dataframe tbody tr th:only-of-type {\n",
              "        vertical-align: middle;\n",
              "    }\n",
              "\n",
              "    .dataframe tbody tr th {\n",
              "        vertical-align: top;\n",
              "    }\n",
              "\n",
              "    .dataframe thead th {\n",
              "        text-align: right;\n",
              "    }\n",
              "</style>\n",
              "<table border=\"1\" class=\"dataframe\">\n",
              "  <thead>\n",
              "    <tr style=\"text-align: right;\">\n",
              "      <th></th>\n",
              "      <th>column 1</th>\n",
              "      <th>column 2</th>\n",
              "      <th>column 3</th>\n",
              "      <th>column 4</th>\n",
              "    </tr>\n",
              "  </thead>\n",
              "  <tbody>\n",
              "    <tr>\n",
              "      <th>row 1</th>\n",
              "      <td>True</td>\n",
              "      <td>True</td>\n",
              "      <td>True</td>\n",
              "      <td>False</td>\n",
              "    </tr>\n",
              "    <tr>\n",
              "      <th>row 2</th>\n",
              "      <td>False</td>\n",
              "      <td>False</td>\n",
              "      <td>False</td>\n",
              "      <td>False</td>\n",
              "    </tr>\n",
              "    <tr>\n",
              "      <th>row 3</th>\n",
              "      <td>False</td>\n",
              "      <td>False</td>\n",
              "      <td>False</td>\n",
              "      <td>False</td>\n",
              "    </tr>\n",
              "    <tr>\n",
              "      <th>row 4</th>\n",
              "      <td>False</td>\n",
              "      <td>False</td>\n",
              "      <td>False</td>\n",
              "      <td>False</td>\n",
              "    </tr>\n",
              "  </tbody>\n",
              "</table>\n",
              "</div>"
            ],
            "text/plain": [
              "       column 1  column 2  column 3  column 4\n",
              "row 1      True      True      True     False\n",
              "row 2     False     False     False     False\n",
              "row 3     False     False     False     False\n",
              "row 4     False     False     False     False"
            ]
          },
          "metadata": {
            "tags": []
          },
          "execution_count": 35
        }
      ]
    },
    {
      "cell_type": "markdown",
      "metadata": {
        "id": "GPlGHKUKg3_y",
        "colab_type": "text"
      },
      "source": [
        "##### **How to filter DF values with scalars?**"
      ]
    },
    {
      "cell_type": "code",
      "metadata": {
        "id": "415Y9mNdhAux",
        "colab_type": "code",
        "outputId": "7b75ee30-7468-420f-fdec-b7f5eb8fbca1",
        "colab": {
          "base_uri": "https://localhost:8080/",
          "height": 166
        }
      },
      "source": [
        "myDF = DataFrame(np.arange(16).reshape((4,4)), \n",
        "                   index=['row 1', 'row 2', 'row 3', 'row 4'],\n",
        "                   columns=['column 1', 'column 2', 'column 3', 'column 4'])\n",
        "\n",
        "myDF[myDF>3]"
      ],
      "execution_count": 36,
      "outputs": [
        {
          "output_type": "execute_result",
          "data": {
            "text/html": [
              "<div>\n",
              "<style scoped>\n",
              "    .dataframe tbody tr th:only-of-type {\n",
              "        vertical-align: middle;\n",
              "    }\n",
              "\n",
              "    .dataframe tbody tr th {\n",
              "        vertical-align: top;\n",
              "    }\n",
              "\n",
              "    .dataframe thead th {\n",
              "        text-align: right;\n",
              "    }\n",
              "</style>\n",
              "<table border=\"1\" class=\"dataframe\">\n",
              "  <thead>\n",
              "    <tr style=\"text-align: right;\">\n",
              "      <th></th>\n",
              "      <th>column 1</th>\n",
              "      <th>column 2</th>\n",
              "      <th>column 3</th>\n",
              "      <th>column 4</th>\n",
              "    </tr>\n",
              "  </thead>\n",
              "  <tbody>\n",
              "    <tr>\n",
              "      <th>row 1</th>\n",
              "      <td>NaN</td>\n",
              "      <td>NaN</td>\n",
              "      <td>NaN</td>\n",
              "      <td>NaN</td>\n",
              "    </tr>\n",
              "    <tr>\n",
              "      <th>row 2</th>\n",
              "      <td>4.0</td>\n",
              "      <td>5.0</td>\n",
              "      <td>6.0</td>\n",
              "      <td>7.0</td>\n",
              "    </tr>\n",
              "    <tr>\n",
              "      <th>row 3</th>\n",
              "      <td>8.0</td>\n",
              "      <td>9.0</td>\n",
              "      <td>10.0</td>\n",
              "      <td>11.0</td>\n",
              "    </tr>\n",
              "    <tr>\n",
              "      <th>row 4</th>\n",
              "      <td>12.0</td>\n",
              "      <td>13.0</td>\n",
              "      <td>14.0</td>\n",
              "      <td>15.0</td>\n",
              "    </tr>\n",
              "  </tbody>\n",
              "</table>\n",
              "</div>"
            ],
            "text/plain": [
              "       column 1  column 2  column 3  column 4\n",
              "row 1       NaN       NaN       NaN       NaN\n",
              "row 2       4.0       5.0       6.0       7.0\n",
              "row 3       8.0       9.0      10.0      11.0\n",
              "row 4      12.0      13.0      14.0      15.0"
            ]
          },
          "metadata": {
            "tags": []
          },
          "execution_count": 36
        }
      ]
    }
  ]
}