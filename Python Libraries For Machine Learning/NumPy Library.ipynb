{
  "nbformat": 4,
  "nbformat_minor": 0,
  "metadata": {
    "colab": {
      "name": "NumPy Library",
      "provenance": [],
      "collapsed_sections": [
        "l1vhLbHEHC0A",
        "E3g6qQ6JIxQD",
        "5uExBWweYrqj",
        "r8-cbx79Naa3",
        "NudOaLlTZdhS"
      ],
      "include_colab_link": true
    },
    "kernelspec": {
      "name": "python3",
      "display_name": "Python 3"
    }
  },
  "cells": [
    {
      "cell_type": "markdown",
      "metadata": {
        "id": "view-in-github",
        "colab_type": "text"
      },
      "source": [
        "<a href=\"https://colab.research.google.com/github/elmaazouziyassine/Machine_Learning_Python/blob/master/Python%20Libraries%20For%20Machine%20Learning/NumPy%20Library.ipynb\" target=\"_parent\"><img src=\"https://colab.research.google.com/assets/colab-badge.svg\" alt=\"Open In Colab\"/></a>"
      ]
    },
    {
      "cell_type": "markdown",
      "metadata": {
        "id": "gNPU-zIVJjx6",
        "colab_type": "text"
      },
      "source": [
        "# **NumPy Library**"
      ]
    },
    {
      "cell_type": "markdown",
      "metadata": {
        "id": "l1vhLbHEHC0A",
        "colab_type": "text"
      },
      "source": [
        "### **Introduction**"
      ]
    },
    {
      "cell_type": "markdown",
      "metadata": {
        "id": "E3g6qQ6JIxQD",
        "colab_type": "text"
      },
      "source": [
        "##### **What is NumPy?**"
      ]
    },
    {
      "cell_type": "markdown",
      "metadata": {
        "id": "mJpKe0sYI91j",
        "colab_type": "text"
      },
      "source": [
        "- NumPy is a **Python Data Science Library**. \n",
        "It stands for \"**Numeric Python**\" or \"**Numerical Python**\".\n",
        "\n",
        "- NumPy containts tools & techniques that help to solve a mathematical problem in Science & Engineering.\n",
        "\n",
        "- NumPy provides a powerful data strucutre **Array Object** that holds some benefits over **Python Lists**.\n",
        "\n"
      ]
    },
    {
      "cell_type": "markdown",
      "metadata": {
        "id": "5uExBWweYrqj",
        "colab_type": "text"
      },
      "source": [
        "##### **How to create NumPy Array?**"
      ]
    },
    {
      "cell_type": "code",
      "metadata": {
        "id": "PcLdiUILNqHj",
        "colab_type": "code",
        "colab": {}
      },
      "source": [
        "#Import NumPy library\n",
        "import numpy as np"
      ],
      "execution_count": 0,
      "outputs": []
    },
    {
      "cell_type": "code",
      "metadata": {
        "id": "jNec6Uf8N2rW",
        "colab_type": "code",
        "colab": {
          "base_uri": "https://localhost:8080/",
          "height": 0
        },
        "outputId": "f91ee651-15b8-4cc2-9691-1925dea54a2e"
      },
      "source": [
        "#Create a 1D numpy array \n",
        "x = np.array([1,2,3,4], dtype = np.int64)\n",
        "print(x)\n",
        "\n",
        "#Create a 2D numpy array\n",
        "y = np.array([[1,2,3,4],[5,6,7,8]], dtype = np.int64)\n",
        "print(y)\n",
        "\n",
        "#Create a 3D numpy array\n",
        "z = np.array([[[10, 11, 12],[13, 14, 15]],[[20, 21, 22],[23, 24, 25]]], dtype = np.int64)\n",
        "print(z)"
      ],
      "execution_count": 10,
      "outputs": [
        {
          "output_type": "stream",
          "text": [
            "[1 2 3 4]\n",
            "[[1 2 3 4]\n",
            " [5 6 7 8]]\n",
            "[[[10 11 12]\n",
            "  [13 14 15]]\n",
            "\n",
            " [[20 21 22]\n",
            "  [23 24 25]]]\n"
          ],
          "name": "stdout"
        }
      ]
    },
    {
      "cell_type": "code",
      "metadata": {
        "id": "TUNqYbUYP4w1",
        "colab_type": "code",
        "colab": {
          "base_uri": "https://localhost:8080/",
          "height": 0
        },
        "outputId": "97be9f5e-e995-4fa5-b40e-ec5f1cb0977a"
      },
      "source": [
        "# Create a 2D empty array\n",
        "empty_array = np.empty((3,2))\n",
        "print(empty_array)\n",
        "\n",
        "# Create a 2D array of zeros\n",
        "zeros_array = np.zeros((2,2,))\n",
        "print(zeros_array)\n",
        "\n",
        "# Create a 2D array of ones \n",
        "ones_array = np.ones((2,2))\n",
        "print(ones_array)\n",
        "\n",
        "# Create a 2D identity array\n",
        "identity_array = np.identity(3)\n",
        "eye_array = np.eye(3)\n",
        "print(identity_array)\n",
        "print(eye_array)"
      ],
      "execution_count": 11,
      "outputs": [
        {
          "output_type": "stream",
          "text": [
            "[[1.7039992e-316 0.0000000e+000]\n",
            " [0.0000000e+000 0.0000000e+000]\n",
            " [0.0000000e+000 0.0000000e+000]]\n",
            "[[0. 0.]\n",
            " [0. 0.]]\n",
            "[[1. 1.]\n",
            " [1. 1.]]\n",
            "[[1. 0. 0.]\n",
            " [0. 1. 0.]\n",
            " [0. 0. 1.]]\n",
            "[[1. 0. 0.]\n",
            " [0. 1. 0.]\n",
            " [0. 0. 1.]]\n"
          ],
          "name": "stdout"
        }
      ]
    },
    {
      "cell_type": "code",
      "metadata": {
        "id": "CSRZ6r3OP9h7",
        "colab_type": "code",
        "outputId": "0a11edc5-de40-4576-a0ba-7380617f175a",
        "colab": {
          "base_uri": "https://localhost:8080/",
          "height": 0
        }
      },
      "source": [
        "# Create a 2D array with random values between 0 and 1\n",
        "random_array = np.random.random((2,2))\n",
        "print(random_array)\n",
        "\n",
        "# Create a 2D full array\n",
        "full_array = np.full((3,4),10)\n",
        "print(full_array)\n",
        "\n",
        "# Create a 2D array of evenly-spaced values (given the step value)\n",
        "arange_array = np.arange(10,25,5)    # array start at 10 per steps of 5 \n",
        "print(arange_array)\n",
        "\n",
        "# Create a 2D array of evenly-spaced values (given the total number of samples)\n",
        "linspace_array = np.linspace(0,3,9)  # array with 9 values that lie between 0 and 3\n",
        "print(linspace_array)"
      ],
      "execution_count": 12,
      "outputs": [
        {
          "output_type": "stream",
          "text": [
            "[[0.07896663 0.11892897]\n",
            " [0.59839618 0.20044227]]\n",
            "[[10 10 10 10]\n",
            " [10 10 10 10]\n",
            " [10 10 10 10]]\n",
            "[10 15 20]\n",
            "[0.    0.375 0.75  1.125 1.5   1.875 2.25  2.625 3.   ]\n"
          ],
          "name": "stdout"
        }
      ]
    },
    {
      "cell_type": "markdown",
      "metadata": {
        "id": "r8-cbx79Naa3",
        "colab_type": "text"
      },
      "source": [
        "### **Numpy Array vs. Python List**\n"
      ]
    },
    {
      "cell_type": "markdown",
      "metadata": {
        "id": "SVpRwUBeSuyR",
        "colab_type": "text"
      },
      "source": [
        "#####**Less Memory**"
      ]
    },
    {
      "cell_type": "code",
      "metadata": {
        "id": "czkzz0eLL3wr",
        "colab_type": "code",
        "outputId": "4a3842f4-93dc-432f-fb60-df8970c7d0aa",
        "colab": {
          "base_uri": "https://localhost:8080/",
          "height": 0
        }
      },
      "source": [
        "import sys\n",
        "\n",
        "# Create a 1D Python list with 1000 elements\n",
        "myList = range(1000)\n",
        "memory_needed_for_myList = sys.getsizeof(1)*len(myList)\n",
        "print(memory_needed_for_myList)     # 28000 bytes to store my Python List\n",
        "\n",
        "# Create a 1D Numpy array with 1000 elements\n",
        "myArray = np.arange(1000, dtype=np.int32)\n",
        "memory_needed_for_myArray = myArray.itemsize * myArray.size                                           \n",
        "print(memory_needed_for_myArray)    # 4000 bytes to store my Numpy Array"
      ],
      "execution_count": 13,
      "outputs": [
        {
          "output_type": "stream",
          "text": [
            "28000\n",
            "4000\n"
          ],
          "name": "stdout"
        }
      ]
    },
    {
      "cell_type": "markdown",
      "metadata": {
        "id": "bE83Na-VUeIQ",
        "colab_type": "text"
      },
      "source": [
        "To store 1000 integers:  \n",
        "- if we use a **Python list**, we will need 28 000 bytes (28 bytes/item) of memory.\n",
        "- if we use a **NumPy array**, we will need 4 000 bytes (4 bytes/item) of memory."
      ]
    },
    {
      "cell_type": "markdown",
      "metadata": {
        "id": "3Gxh-tphUag0",
        "colab_type": "text"
      },
      "source": [
        "#####**Fast & Convenient**"
      ]
    },
    {
      "cell_type": "markdown",
      "metadata": {
        "id": "5DPPJn3SU0-P",
        "colab_type": "text"
      },
      "source": [
        "Measure time between Python List \n",
        "processing and NumPy Array processing"
      ]
    },
    {
      "cell_type": "code",
      "metadata": {
        "id": "7ON6RkRpNJ7o",
        "colab_type": "code",
        "outputId": "8a13365d-5268-4b78-b05f-421c68d5372b",
        "colab": {
          "base_uri": "https://localhost:8080/",
          "height": 0
        }
      },
      "source": [
        "import time\n",
        "size = 1000000\n",
        "\n",
        "myList1 = range(size)\n",
        "myList2 = range(size)\n",
        "\n",
        "myArray1 = np.arange(size)\n",
        "myArray2 = np.arange(size)\n",
        "\n",
        "start = time.time()\n",
        "result_Lists = [(x+y) for x,y in zip(myList1, myList2)]\n",
        "print(\"Processing Python Lists took: \", (time.time()-start)*1000) #1000 to convert to ms\n",
        "\n",
        "start = time.time()\n",
        "result_Arrays = myArray1+myArray2\n",
        "print(\"Processing Numpy Arrays took: \", (time.time()-start)*1000) #1000 to convert to ms"
      ],
      "execution_count": 14,
      "outputs": [
        {
          "output_type": "stream",
          "text": [
            "Processing Python Lists took:  141.4036750793457\n",
            "Processing Numpy Arrays took:  3.943920135498047\n"
          ],
          "name": "stdout"
        }
      ]
    },
    {
      "cell_type": "markdown",
      "metadata": {
        "id": "TBAHDq_vW-lB",
        "colab_type": "text"
      },
      "source": [
        "### **Inspecting a Numpy Array**\n"
      ]
    },
    {
      "cell_type": "markdown",
      "metadata": {
        "id": "VxSXDUjeXJqa",
        "colab_type": "text"
      },
      "source": [
        "An array has many attributes"
      ]
    },
    {
      "cell_type": "code",
      "metadata": {
        "id": "iZ1ycJ9yXNUF",
        "colab_type": "code",
        "outputId": "e1fb9e58-108f-464c-de77-70a3a1a2af80",
        "colab": {
          "base_uri": "https://localhost:8080/",
          "height": 0
        }
      },
      "source": [
        "# Create a numpy array\n",
        "x = np.array([[1,2,3,4],[5,6,7,8]], dtype=np.int32)\n",
        "print(x)\n",
        "\n",
        "# Print the memory address\n",
        "print(x.data)\n",
        "\n",
        "# Print the shape\n",
        "print(x.shape)\n",
        "\n",
        "# Print the total number of elements\n",
        "print(x.size)\n",
        "\n",
        "# Print the dimension \n",
        "print(x.ndim)\n",
        "\n",
        "# Print the data type\n",
        "print(x.dtype)"
      ],
      "execution_count": 15,
      "outputs": [
        {
          "output_type": "stream",
          "text": [
            "[[1 2 3 4]\n",
            " [5 6 7 8]]\n",
            "<memory at 0x7f861de542d0>\n",
            "(2, 4)\n",
            "8\n",
            "2\n",
            "int32\n"
          ],
          "name": "stdout"
        }
      ]
    },
    {
      "cell_type": "code",
      "metadata": {
        "id": "Jp78pp7LXZj4",
        "colab_type": "code",
        "outputId": "8b4af7ef-1fd7-44ee-9e13-f990e7c56ac2",
        "colab": {
          "base_uri": "https://localhost:8080/",
          "height": 0
        }
      },
      "source": [
        "# Print the length of one array element in bytes\n",
        "print(x.itemsize)\n",
        "\n",
        "# Print the total consumed bytes by the array's elements\n",
        "print(x.nbytes)\n",
        "\n",
        "# Print the stride\n",
        "print(x.strides)\n",
        "\n",
        "# Print information about memory layout\n",
        "print(x.flags)\n",
        "\n",
        "# Print the length of the array\n",
        "print(len(x))\n",
        "\n",
        "# Change the data type of the array\n",
        "x.astype(float)"
      ],
      "execution_count": 16,
      "outputs": [
        {
          "output_type": "stream",
          "text": [
            "4\n",
            "32\n",
            "(16, 4)\n",
            "  C_CONTIGUOUS : True\n",
            "  F_CONTIGUOUS : False\n",
            "  OWNDATA : True\n",
            "  WRITEABLE : True\n",
            "  ALIGNED : True\n",
            "  WRITEBACKIFCOPY : False\n",
            "  UPDATEIFCOPY : False\n",
            "\n",
            "2\n"
          ],
          "name": "stdout"
        },
        {
          "output_type": "execute_result",
          "data": {
            "text/plain": [
              "array([[1., 2., 3., 4.],\n",
              "       [5., 6., 7., 8.]])"
            ]
          },
          "metadata": {
            "tags": []
          },
          "execution_count": 16
        }
      ]
    },
    {
      "cell_type": "markdown",
      "metadata": {
        "id": "_34eFmpEZEvm",
        "colab_type": "text"
      },
      "source": [
        "### **NumPy Broadcasting**"
      ]
    },
    {
      "cell_type": "markdown",
      "metadata": {
        "id": "nEs7mZi4ZMhp",
        "colab_type": "text"
      },
      "source": [
        "- Broadcasting is a mechanism that allows NumPy to work with arrays of different shapes when performing arithmetic operations.\n",
        "\n",
        "- How to make sure that broadcasting is successful ? : The dimensions of the arrays need to be compatible.\n",
        "\n",
        "- If the dimensions are not compatible, we will get a \"ValueError\"."
      ]
    },
    {
      "cell_type": "markdown",
      "metadata": {
        "id": "NudOaLlTZdhS",
        "colab_type": "text"
      },
      "source": [
        "##### **Two dimensions are compatible when they are equal**"
      ]
    },
    {
      "cell_type": "code",
      "metadata": {
        "id": "jiWNA4-mZjWe",
        "colab_type": "code",
        "colab": {
          "base_uri": "https://localhost:8080/",
          "height": 0
        },
        "outputId": "73f23f78-57fe-4f18-ccd6-156382dccd99"
      },
      "source": [
        "x = np.ones((3,4))\n",
        "print(x)\n",
        "y = np.random.random((3,4))\n",
        "print(y)\n",
        "print (x+y)"
      ],
      "execution_count": 17,
      "outputs": [
        {
          "output_type": "stream",
          "text": [
            "[[1. 1. 1. 1.]\n",
            " [1. 1. 1. 1.]\n",
            " [1. 1. 1. 1.]]\n",
            "[[0.21863021 0.70501964 0.96095587 0.62590056]\n",
            " [0.50440554 0.51802993 0.41467579 0.93904737]\n",
            " [0.56140139 0.39758965 0.88064143 0.4554477 ]]\n",
            "[[1.21863021 1.70501964 1.96095587 1.62590056]\n",
            " [1.50440554 1.51802993 1.41467579 1.93904737]\n",
            " [1.56140139 1.39758965 1.88064143 1.4554477 ]]\n"
          ],
          "name": "stdout"
        }
      ]
    },
    {
      "cell_type": "markdown",
      "metadata": {
        "id": "QM2cdz1oZs0e",
        "colab_type": "text"
      },
      "source": [
        "##### **Two dimensions are compatible when one of them is equal to 1**"
      ]
    },
    {
      "cell_type": "code",
      "metadata": {
        "id": "8bv8kos2ZyCX",
        "colab_type": "code",
        "outputId": "b4e73795-f0d2-472a-9977-12c2ae196f15",
        "colab": {
          "base_uri": "https://localhost:8080/",
          "height": 0
        }
      },
      "source": [
        "x = np.ones((3,4))\n",
        "print(x)\n",
        "y = np.arange(4)\n",
        "print(y)\n",
        "print(x+y)"
      ],
      "execution_count": 18,
      "outputs": [
        {
          "output_type": "stream",
          "text": [
            "[[1. 1. 1. 1.]\n",
            " [1. 1. 1. 1.]\n",
            " [1. 1. 1. 1.]]\n",
            "[0 1 2 3]\n",
            "[[1. 2. 3. 4.]\n",
            " [1. 2. 3. 4.]\n",
            " [1. 2. 3. 4.]]\n"
          ],
          "name": "stdout"
        }
      ]
    },
    {
      "cell_type": "markdown",
      "metadata": {
        "id": "Kn4XwzeyaHSK",
        "colab_type": "text"
      },
      "source": [
        "##### **Other cases**"
      ]
    },
    {
      "cell_type": "code",
      "metadata": {
        "id": "h_aNsWfNaQvC",
        "colab_type": "code",
        "colab": {
          "base_uri": "https://localhost:8080/",
          "height": 0
        },
        "outputId": "23c2e68e-860b-46a8-b4f5-e9db119ed43b"
      },
      "source": [
        "x = np.ones((3,4))\n",
        "print(x)\n",
        "y = np.random.random((5,1,4))\n",
        "print(y)\n",
        "print (x+y)"
      ],
      "execution_count": 19,
      "outputs": [
        {
          "output_type": "stream",
          "text": [
            "[[1. 1. 1. 1.]\n",
            " [1. 1. 1. 1.]\n",
            " [1. 1. 1. 1.]]\n",
            "[[[0.90743936 0.21658073 0.12117599 0.60120905]]\n",
            "\n",
            " [[0.5354685  0.56103511 0.02956275 0.69392964]]\n",
            "\n",
            " [[0.23023859 0.49537619 0.25574402 0.75171815]]\n",
            "\n",
            " [[0.74556333 0.54949462 0.29173161 0.18942824]]\n",
            "\n",
            " [[0.09992773 0.87800677 0.78971421 0.46322805]]]\n",
            "[[[1.90743936 1.21658073 1.12117599 1.60120905]\n",
            "  [1.90743936 1.21658073 1.12117599 1.60120905]\n",
            "  [1.90743936 1.21658073 1.12117599 1.60120905]]\n",
            "\n",
            " [[1.5354685  1.56103511 1.02956275 1.69392964]\n",
            "  [1.5354685  1.56103511 1.02956275 1.69392964]\n",
            "  [1.5354685  1.56103511 1.02956275 1.69392964]]\n",
            "\n",
            " [[1.23023859 1.49537619 1.25574402 1.75171815]\n",
            "  [1.23023859 1.49537619 1.25574402 1.75171815]\n",
            "  [1.23023859 1.49537619 1.25574402 1.75171815]]\n",
            "\n",
            " [[1.74556333 1.54949462 1.29173161 1.18942824]\n",
            "  [1.74556333 1.54949462 1.29173161 1.18942824]\n",
            "  [1.74556333 1.54949462 1.29173161 1.18942824]]\n",
            "\n",
            " [[1.09992773 1.87800677 1.78971421 1.46322805]\n",
            "  [1.09992773 1.87800677 1.78971421 1.46322805]\n",
            "  [1.09992773 1.87800677 1.78971421 1.46322805]]]\n"
          ],
          "name": "stdout"
        }
      ]
    },
    {
      "cell_type": "markdown",
      "metadata": {
        "id": "XnURRwU_anY4",
        "colab_type": "text"
      },
      "source": [
        "- Notice that in the dimension where y has size 1, and the other array has a size greater than 1,  the first array behaves as if it were copied along that dimension.\n",
        "\n",
        "- Note that the shape of the resulting array will again be the maximum size along each dimension of x and y: the dimension of the result will be (5,3,4)\n"
      ]
    },
    {
      "cell_type": "markdown",
      "metadata": {
        "id": "2L_N5r7aa-2d",
        "colab_type": "text"
      },
      "source": [
        "### **NumPy Manipulation**"
      ]
    },
    {
      "cell_type": "markdown",
      "metadata": {
        "id": "JIjY_kHKbFQP",
        "colab_type": "text"
      },
      "source": [
        "##### **How to subset an array?**"
      ]
    },
    {
      "cell_type": "code",
      "metadata": {
        "id": "rGWj2sPvbL-b",
        "colab_type": "code",
        "outputId": "93c0b630-8cf5-44eb-b4b8-ae448887c53e",
        "colab": {
          "base_uri": "https://localhost:8080/",
          "height": 122
        }
      },
      "source": [
        "x = np.array([[1,2,3],[4,5,6],[7,8,9]])\n",
        "\n",
        "print(x)\n",
        "print(x[0])\n",
        "print(x[0],x[1])\n",
        "print(x[0,1])"
      ],
      "execution_count": 20,
      "outputs": [
        {
          "output_type": "stream",
          "text": [
            "[[1 2 3]\n",
            " [4 5 6]\n",
            " [7 8 9]]\n",
            "[1 2 3]\n",
            "[1 2 3] [4 5 6]\n",
            "2\n"
          ],
          "name": "stdout"
        }
      ]
    },
    {
      "cell_type": "markdown",
      "metadata": {
        "id": "PFti3hYecN8y",
        "colab_type": "text"
      },
      "source": [
        "##### **How to slice an array?**"
      ]
    },
    {
      "cell_type": "markdown",
      "metadata": {
        "id": "dX3CKX9YcQvw",
        "colab_type": "text"
      },
      "source": [
        "- x[start:end] : items start through the end (but the end is not included!)\n",
        "- x[start:]    : items start through the rest of the array.\n",
        "- x[:end]      : items from the beginning through the end (but the end is not included!)"
      ]
    },
    {
      "cell_type": "code",
      "metadata": {
        "id": "t_MEAmy3ca1x",
        "colab_type": "code",
        "outputId": "e685b462-c190-4da2-e230-ddc7f4b7b063",
        "colab": {
          "base_uri": "https://localhost:8080/",
          "height": 70
        }
      },
      "source": [
        "x = np.array([[1,2,3],[4,5,6],[7,8,9]])\n",
        "print(x[0:2])\n",
        "print(x[0:2,1])"
      ],
      "execution_count": 21,
      "outputs": [
        {
          "output_type": "stream",
          "text": [
            "[[1 2 3]\n",
            " [4 5 6]]\n",
            "[2 5]\n"
          ],
          "name": "stdout"
        }
      ]
    },
    {
      "cell_type": "markdown",
      "metadata": {
        "id": "tpVvGXHqckCr",
        "colab_type": "text"
      },
      "source": [
        "##### **How to index an array?**\n"
      ]
    },
    {
      "cell_type": "markdown",
      "metadata": {
        "id": "6g4J4zB0dpcO",
        "colab_type": "text"
      },
      "source": [
        "***Boolean Indexing***"
      ]
    },
    {
      "cell_type": "markdown",
      "metadata": {
        "id": "2Ikwvd7IcqVO",
        "colab_type": "text"
      },
      "source": [
        "Boolean indexing: Instead of selecting elements, rows or columns based on index number, the selection is done using a certain condition on array values. To specify an condition, we can use logical operators ('|' for OR, '&' for AND )"
      ]
    },
    {
      "cell_type": "code",
      "metadata": {
        "id": "bal9pOXmdyp1",
        "colab_type": "code",
        "outputId": "00959be6-4625-483c-eeb1-d4543bba856e",
        "colab": {
          "base_uri": "https://localhost:8080/",
          "height": 34
        }
      },
      "source": [
        "x = np.array([[1,2,3],[4,5,6],[7,8,9]])\n",
        "condition = (x>3)\n",
        "print(x[condition])"
      ],
      "execution_count": 22,
      "outputs": [
        {
          "output_type": "stream",
          "text": [
            "[4 5 6 7 8 9]\n"
          ],
          "name": "stdout"
        }
      ]
    },
    {
      "cell_type": "markdown",
      "metadata": {
        "id": "kuJnPVCNdlp6",
        "colab_type": "text"
      },
      "source": [
        "***Advanced or \"Fancy\" Indexing***"
      ]
    },
    {
      "cell_type": "markdown",
      "metadata": {
        "id": "r0ggO5srdwA4",
        "colab_type": "text"
      },
      "source": [
        "Advanced or \"fancy\" indexing: We pass a list or an array of integers to specify the order of the subset of rows we want to slect out of the original array"
      ]
    },
    {
      "cell_type": "code",
      "metadata": {
        "id": "46R02GBDd95j",
        "colab_type": "code",
        "outputId": "9eca5eda-a20e-42d6-c2ee-9671a142b531",
        "colab": {
          "base_uri": "https://localhost:8080/",
          "height": 210
        }
      },
      "source": [
        "x = np.array([[1,2,3],[4,5,6],[7,8,9]])\n",
        "print(x)\n",
        "\n",
        "# Select elements at (1,0), (0,1), (1,2) and (0,0)\n",
        "print(x[[1, 0, 1, 0],[0, 1, 2, 0]])\n",
        "\n",
        "# Select a subset of the rows and columns\n",
        "print(x[[1, 0, 1, 0]])\n",
        "\n",
        "print(x[:,[0,1,2,0]])"
      ],
      "execution_count": 23,
      "outputs": [
        {
          "output_type": "stream",
          "text": [
            "[[1 2 3]\n",
            " [4 5 6]\n",
            " [7 8 9]]\n",
            "[4 2 6 1]\n",
            "[[4 5 6]\n",
            " [1 2 3]\n",
            " [4 5 6]\n",
            " [1 2 3]]\n",
            "[[1 2 3 1]\n",
            " [4 5 6 4]\n",
            " [7 8 9 7]]\n"
          ],
          "name": "stdout"
        }
      ]
    },
    {
      "cell_type": "markdown",
      "metadata": {
        "id": "EwC_YOu_edyb",
        "colab_type": "text"
      },
      "source": [
        "##### **How to transpose an array?**\n"
      ]
    },
    {
      "cell_type": "code",
      "metadata": {
        "id": "N-T23KucehEW",
        "colab_type": "code",
        "outputId": "89f8f083-911c-4ad0-9d9e-2a3f52d16d5d",
        "colab": {
          "base_uri": "https://localhost:8080/",
          "height": 122
        }
      },
      "source": [
        "x = np.array([[1,2,3],[4,5,6],[7,8,9]])\n",
        "print(x)\n",
        "\n",
        "tran_x = np.transpose(x)    # x.T\n",
        "print(tran_x)"
      ],
      "execution_count": 24,
      "outputs": [
        {
          "output_type": "stream",
          "text": [
            "[[1 2 3]\n",
            " [4 5 6]\n",
            " [7 8 9]]\n",
            "[[1 4 7]\n",
            " [2 5 8]\n",
            " [3 6 9]]\n"
          ],
          "name": "stdout"
        }
      ]
    },
    {
      "cell_type": "markdown",
      "metadata": {
        "id": "OhaBWJT2e03r",
        "colab_type": "text"
      },
      "source": [
        "##### **How to resize an array?**\n"
      ]
    },
    {
      "cell_type": "markdown",
      "metadata": {
        "id": "jSPpYNbye716",
        "colab_type": "text"
      },
      "source": [
        "If you pass the original array together with the new dimensions, and if that new array is larger than the one that we originally had, the new array will be filled with copies of the original array that are repeated as many times as is needed.\n",
        "\n",
        "However, if we just apply np.resize() to the array and we pass the new shape to it, the new array will be filled with zeros."
      ]
    },
    {
      "cell_type": "code",
      "metadata": {
        "id": "K33SIavQe9D-",
        "colab_type": "code",
        "outputId": "29660b30-4e95-4d1b-e8f1-98143188b436",
        "colab": {
          "base_uri": "https://localhost:8080/",
          "height": 175
        }
      },
      "source": [
        "x = np.array([[1,2,3],[4,5,6],[7,8,9]])\n",
        "print(x.shape)\n",
        "print(x.size)\n",
        "\n",
        "y = np.resize(x, (6,4))\n",
        "z = x.resize((6,4))\n",
        "\n",
        "print(y)\n",
        "print(z)"
      ],
      "execution_count": 25,
      "outputs": [
        {
          "output_type": "stream",
          "text": [
            "(3, 3)\n",
            "9\n",
            "[[1 2 3 4]\n",
            " [5 6 7 8]\n",
            " [9 1 2 3]\n",
            " [4 5 6 7]\n",
            " [8 9 1 2]\n",
            " [3 4 5 6]]\n",
            "None\n"
          ],
          "name": "stdout"
        }
      ]
    },
    {
      "cell_type": "markdown",
      "metadata": {
        "id": "i-tebHRIfbT_",
        "colab_type": "text"
      },
      "source": [
        "##### **How to reshape an array?**\n"
      ]
    },
    {
      "cell_type": "markdown",
      "metadata": {
        "id": "pHBzdrybfeJ8",
        "colab_type": "text"
      },
      "source": [
        "This means that you give a new shape to an array without changing its data. The key to reshaping is to make sure that the total size of the new array is unchanged. If you take the example of array x that was used above, which has a size of 3 X 3 or 12, you have to make sure that the new array also has a size of 9.\n",
        "\n",
        "Another operation that you might keep handy when you’re changing the shape of arrays is ravel(). This function allows you to flatten your arrays. This means that if you ever have 2D, 3D or n-D arrays, you can just use this function to flatten it all out to a 1-D array."
      ]
    },
    {
      "cell_type": "code",
      "metadata": {
        "id": "wdlSIsvTfaiB",
        "colab_type": "code",
        "outputId": "3ae7a55a-7a5b-4919-9a19-a61760946e6f",
        "colab": {
          "base_uri": "https://localhost:8080/",
          "height": 70
        }
      },
      "source": [
        "x = np.array([[1,2,3],[4,5,6],[7,8,9]])\n",
        "print(x.shape)\n",
        "print(x.size)\n",
        "\n",
        "# Reshape x to (1,9)\n",
        "y = x.reshape((1,9))\n",
        "print(y)"
      ],
      "execution_count": 26,
      "outputs": [
        {
          "output_type": "stream",
          "text": [
            "(3, 3)\n",
            "9\n",
            "[[1 2 3 4 5 6 7 8 9]]\n"
          ],
          "name": "stdout"
        }
      ]
    },
    {
      "cell_type": "markdown",
      "metadata": {
        "id": "FaiVgLTxjAS5",
        "colab_type": "text"
      },
      "source": [
        "##### **How to append arrays?**\n"
      ]
    },
    {
      "cell_type": "markdown",
      "metadata": {
        "id": "0UC7eoMujGVu",
        "colab_type": "text"
      },
      "source": [
        "When we append arrays to an original array, they are “glued” to the end of that original array. \n",
        "If we want to make sure that what we append does not come at the end of the array, we might consider inserting it. Go to the next section if you want to know more."
      ]
    },
    {
      "cell_type": "code",
      "metadata": {
        "id": "68q5lTHKjHU-",
        "colab_type": "code",
        "outputId": "8195355f-978b-4f58-d3aa-5051ccdffca1",
        "colab": {
          "base_uri": "https://localhost:8080/",
          "height": 105
        }
      },
      "source": [
        "x = np.array([1,2,3])\n",
        "y = np.array([4,5,6])\n",
        "\n",
        "z = np.append(x,y)\n",
        "print(z)\n",
        "\n",
        "a = np.random.random((2,2))\n",
        "print(a)\n",
        "\n",
        "b = np.append(a, [[2],[3]], axis=1)\n",
        "print(b)"
      ],
      "execution_count": 27,
      "outputs": [
        {
          "output_type": "stream",
          "text": [
            "[1 2 3 4 5 6]\n",
            "[[0.97303029 0.59658133]\n",
            " [0.24162296 0.04557283]]\n",
            "[[0.97303029 0.59658133 2.        ]\n",
            " [0.24162296 0.04557283 3.        ]]\n"
          ],
          "name": "stdout"
        }
      ]
    },
    {
      "cell_type": "markdown",
      "metadata": {
        "id": "6y6DjetyjqT3",
        "colab_type": "text"
      },
      "source": [
        "##### **How to insert & delete array elements?**\n"
      ]
    },
    {
      "cell_type": "code",
      "metadata": {
        "id": "8JlG4em9juy_",
        "colab_type": "code",
        "outputId": "95ab8628-7ff5-47df-98c6-215dd3e759a4",
        "colab": {
          "base_uri": "https://localhost:8080/",
          "height": 52
        }
      },
      "source": [
        "x = np.array([1,2,3])\n",
        "\n",
        "# Insert (5,4) from index 2\n",
        "y = np.insert(x, 2, (5,4))\n",
        "print(y)\n",
        "\n",
        "# Delete the value at index 1\n",
        "z = np.delete(x,[1])\n",
        "print(z)"
      ],
      "execution_count": 28,
      "outputs": [
        {
          "output_type": "stream",
          "text": [
            "[1 2 5 4 3]\n",
            "[1 3]\n"
          ],
          "name": "stdout"
        }
      ]
    }
  ]
}