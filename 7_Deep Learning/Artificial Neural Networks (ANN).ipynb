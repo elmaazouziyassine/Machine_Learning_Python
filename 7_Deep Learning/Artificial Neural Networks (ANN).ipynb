{
  "nbformat": 4,
  "nbformat_minor": 0,
  "metadata": {
    "colab": {
      "name": "Artificial Neural Networks (ANN).ipynb",
      "provenance": [],
      "collapsed_sections": [
        "CvkK4kOKG5M8"
      ],
      "include_colab_link": true
    },
    "kernelspec": {
      "name": "python3",
      "display_name": "Python 3"
    }
  },
  "cells": [
    {
      "cell_type": "markdown",
      "metadata": {
        "id": "view-in-github",
        "colab_type": "text"
      },
      "source": [
        "<a href=\"https://colab.research.google.com/github/elmaazouziyassine/Machine_Learning_Python/blob/master/7_Deep%20Learning/Artificial%20Neural%20Networks%20(ANN).ipynb\" target=\"_parent\"><img src=\"https://colab.research.google.com/assets/colab-badge.svg\" alt=\"Open In Colab\"/></a>"
      ]
    },
    {
      "cell_type": "markdown",
      "metadata": {
        "id": "mnAuvSZrtpF9",
        "colab_type": "text"
      },
      "source": [
        "# **Artificial Neural Networks (ANN)**\n",
        "\n"
      ]
    },
    {
      "cell_type": "markdown",
      "metadata": {
        "id": "8WlNnfISDgjp",
        "colab_type": "text"
      },
      "source": [
        "### **Data Preprocessing**\n",
        "\n",
        "\n"
      ]
    },
    {
      "cell_type": "code",
      "metadata": {
        "id": "59_UXMpUhLu1",
        "colab_type": "code",
        "colab": {}
      },
      "source": [
        "# Import the needed libraries\n",
        "import numpy as np\n",
        "import pandas as pd\n",
        "import matplotlib.pyplot as plt\n",
        "import seaborn as sns\n",
        "import sklearn"
      ],
      "execution_count": 0,
      "outputs": []
    },
    {
      "cell_type": "code",
      "metadata": {
        "id": "dpcfbCGwxpbp",
        "colab_type": "code",
        "colab": {}
      },
      "source": [
        "# Installing Theano\n",
        "#pip install --upgrade --no-deps git+git://github.com/Theano/Theano.git\n",
        "\n",
        "# Installing Tensorflow\n",
        "#Install Tensorflow from the website: https://www.tensorflow.org/versions/r0.12/get_started/os_setup.html\n",
        "\n",
        "# Installing Keras\n",
        "#pip install --upgrade keras"
      ],
      "execution_count": 0,
      "outputs": []
    },
    {
      "cell_type": "code",
      "metadata": {
        "id": "FhNsUA7PkyRg",
        "colab_type": "code",
        "outputId": "de5897a9-60e0-4996-9270-9f70f75c5b7f",
        "colab": {
          "base_uri": "https://localhost:8080/",
          "height": 195
        }
      },
      "source": [
        "# Import dataset\n",
        "dataset = 'https://raw.githubusercontent.com/elmaazouziyassine/Machine_Learning_Python/master/datasets/bank_customers.csv'\n",
        "data = pd.read_csv(dataset)\n",
        "data.head()"
      ],
      "execution_count": 52,
      "outputs": [
        {
          "output_type": "execute_result",
          "data": {
            "text/html": [
              "<div>\n",
              "<style scoped>\n",
              "    .dataframe tbody tr th:only-of-type {\n",
              "        vertical-align: middle;\n",
              "    }\n",
              "\n",
              "    .dataframe tbody tr th {\n",
              "        vertical-align: top;\n",
              "    }\n",
              "\n",
              "    .dataframe thead th {\n",
              "        text-align: right;\n",
              "    }\n",
              "</style>\n",
              "<table border=\"1\" class=\"dataframe\">\n",
              "  <thead>\n",
              "    <tr style=\"text-align: right;\">\n",
              "      <th></th>\n",
              "      <th>RowNumber</th>\n",
              "      <th>CustomerId</th>\n",
              "      <th>Surname</th>\n",
              "      <th>CreditScore</th>\n",
              "      <th>Geography</th>\n",
              "      <th>Gender</th>\n",
              "      <th>Age</th>\n",
              "      <th>Tenure</th>\n",
              "      <th>Balance</th>\n",
              "      <th>NumOfProducts</th>\n",
              "      <th>HasCrCard</th>\n",
              "      <th>IsActiveMember</th>\n",
              "      <th>EstimatedSalary</th>\n",
              "      <th>Exited</th>\n",
              "    </tr>\n",
              "  </thead>\n",
              "  <tbody>\n",
              "    <tr>\n",
              "      <th>0</th>\n",
              "      <td>1</td>\n",
              "      <td>15634602</td>\n",
              "      <td>Hargrave</td>\n",
              "      <td>619</td>\n",
              "      <td>France</td>\n",
              "      <td>Female</td>\n",
              "      <td>42</td>\n",
              "      <td>2</td>\n",
              "      <td>0.00</td>\n",
              "      <td>1</td>\n",
              "      <td>1</td>\n",
              "      <td>1</td>\n",
              "      <td>101348.88</td>\n",
              "      <td>1</td>\n",
              "    </tr>\n",
              "    <tr>\n",
              "      <th>1</th>\n",
              "      <td>2</td>\n",
              "      <td>15647311</td>\n",
              "      <td>Hill</td>\n",
              "      <td>608</td>\n",
              "      <td>Spain</td>\n",
              "      <td>Female</td>\n",
              "      <td>41</td>\n",
              "      <td>1</td>\n",
              "      <td>83807.86</td>\n",
              "      <td>1</td>\n",
              "      <td>0</td>\n",
              "      <td>1</td>\n",
              "      <td>112542.58</td>\n",
              "      <td>0</td>\n",
              "    </tr>\n",
              "    <tr>\n",
              "      <th>2</th>\n",
              "      <td>3</td>\n",
              "      <td>15619304</td>\n",
              "      <td>Onio</td>\n",
              "      <td>502</td>\n",
              "      <td>France</td>\n",
              "      <td>Female</td>\n",
              "      <td>42</td>\n",
              "      <td>8</td>\n",
              "      <td>159660.80</td>\n",
              "      <td>3</td>\n",
              "      <td>1</td>\n",
              "      <td>0</td>\n",
              "      <td>113931.57</td>\n",
              "      <td>1</td>\n",
              "    </tr>\n",
              "    <tr>\n",
              "      <th>3</th>\n",
              "      <td>4</td>\n",
              "      <td>15701354</td>\n",
              "      <td>Boni</td>\n",
              "      <td>699</td>\n",
              "      <td>France</td>\n",
              "      <td>Female</td>\n",
              "      <td>39</td>\n",
              "      <td>1</td>\n",
              "      <td>0.00</td>\n",
              "      <td>2</td>\n",
              "      <td>0</td>\n",
              "      <td>0</td>\n",
              "      <td>93826.63</td>\n",
              "      <td>0</td>\n",
              "    </tr>\n",
              "    <tr>\n",
              "      <th>4</th>\n",
              "      <td>5</td>\n",
              "      <td>15737888</td>\n",
              "      <td>Mitchell</td>\n",
              "      <td>850</td>\n",
              "      <td>Spain</td>\n",
              "      <td>Female</td>\n",
              "      <td>43</td>\n",
              "      <td>2</td>\n",
              "      <td>125510.82</td>\n",
              "      <td>1</td>\n",
              "      <td>1</td>\n",
              "      <td>1</td>\n",
              "      <td>79084.10</td>\n",
              "      <td>0</td>\n",
              "    </tr>\n",
              "  </tbody>\n",
              "</table>\n",
              "</div>"
            ],
            "text/plain": [
              "   RowNumber  CustomerId   Surname  ...  IsActiveMember EstimatedSalary Exited\n",
              "0          1    15634602  Hargrave  ...               1       101348.88      1\n",
              "1          2    15647311      Hill  ...               1       112542.58      0\n",
              "2          3    15619304      Onio  ...               0       113931.57      1\n",
              "3          4    15701354      Boni  ...               0        93826.63      0\n",
              "4          5    15737888  Mitchell  ...               1        79084.10      0\n",
              "\n",
              "[5 rows x 14 columns]"
            ]
          },
          "metadata": {
            "tags": []
          },
          "execution_count": 52
        }
      ]
    },
    {
      "cell_type": "code",
      "metadata": {
        "id": "fESy5CqPDoo7",
        "colab_type": "code",
        "outputId": "0a323860-7dde-4b13-8be8-f37d867e13fe",
        "colab": {
          "base_uri": "https://localhost:8080/",
          "height": 281
        }
      },
      "source": [
        "data.count()"
      ],
      "execution_count": 53,
      "outputs": [
        {
          "output_type": "execute_result",
          "data": {
            "text/plain": [
              "RowNumber          10000\n",
              "CustomerId         10000\n",
              "Surname            10000\n",
              "CreditScore        10000\n",
              "Geography          10000\n",
              "Gender             10000\n",
              "Age                10000\n",
              "Tenure             10000\n",
              "Balance            10000\n",
              "NumOfProducts      10000\n",
              "HasCrCard          10000\n",
              "IsActiveMember     10000\n",
              "EstimatedSalary    10000\n",
              "Exited             10000\n",
              "dtype: int64"
            ]
          },
          "metadata": {
            "tags": []
          },
          "execution_count": 53
        }
      ]
    },
    {
      "cell_type": "code",
      "metadata": {
        "id": "bDowH4L4lYfM",
        "colab_type": "code",
        "colab": {}
      },
      "source": [
        "# Separate Features Variables from Target Variable\n",
        "X = data.iloc[:, 3:13].values\n",
        "y = data.iloc[:, 13].values"
      ],
      "execution_count": 0,
      "outputs": []
    },
    {
      "cell_type": "code",
      "metadata": {
        "id": "D0eSGTakyqUX",
        "colab_type": "code",
        "colab": {
          "base_uri": "https://localhost:8080/",
          "height": 474
        },
        "outputId": "0dc42862-7b08-4dee-90d3-ee44466f4353"
      },
      "source": [
        "# Encode \"Geography\" & \"Gender\" variables\n",
        "from sklearn.preprocessing import OneHotEncoder, LabelEncoder\n",
        "from sklearn.compose import ColumnTransformer\n",
        "\n",
        "print('--- X Geography ---')\n",
        "print(X)\n",
        "\n",
        "print('--- LabelEncoder Geography ---')\n",
        "le_1 = LabelEncoder()\n",
        "X[:, 1] = le_1.fit_transform(X[:, 1])\n",
        "\n",
        "print('--- LabelEncoder Gender ---')\n",
        "le_2 = LabelEncoder()\n",
        "X[:, 2] = le_2.fit_transform(X[:, 2])\n",
        "print(X)\n",
        "\n",
        "print('--- OneHotEncoder Geography ---')\n",
        "ct = ColumnTransformer([('Geography', OneHotEncoder(), [1])], remainder='passthrough')\n",
        "X = ct.fit_transform(X) #.toarray()\n",
        "print(X)\n",
        "\n",
        "# remove 1 dummy variable related to Geography\n",
        "X = X[:, 1:]\n",
        "print(X[0,:])"
      ],
      "execution_count": 55,
      "outputs": [
        {
          "output_type": "stream",
          "text": [
            "--- X Geography ---\n",
            "[[619 'France' 'Female' ... 1 1 101348.88]\n",
            " [608 'Spain' 'Female' ... 0 1 112542.58]\n",
            " [502 'France' 'Female' ... 1 0 113931.57]\n",
            " ...\n",
            " [709 'France' 'Female' ... 0 1 42085.58]\n",
            " [772 'Germany' 'Male' ... 1 0 92888.52]\n",
            " [792 'France' 'Female' ... 1 0 38190.78]]\n",
            "--- LabelEncoder Geography ---\n",
            "--- LabelEncoder Gender ---\n",
            "[[619 0 0 ... 1 1 101348.88]\n",
            " [608 2 0 ... 0 1 112542.58]\n",
            " [502 0 0 ... 1 0 113931.57]\n",
            " ...\n",
            " [709 0 0 ... 0 1 42085.58]\n",
            " [772 1 1 ... 1 0 92888.52]\n",
            " [792 0 0 ... 1 0 38190.78]]\n",
            "--- OneHotEncoder Geography ---\n",
            "[[1.0 0.0 0.0 ... 1 1 101348.88]\n",
            " [0.0 0.0 1.0 ... 0 1 112542.58]\n",
            " [1.0 0.0 0.0 ... 1 0 113931.57]\n",
            " ...\n",
            " [1.0 0.0 0.0 ... 0 1 42085.58]\n",
            " [0.0 1.0 0.0 ... 1 0 92888.52]\n",
            " [1.0 0.0 0.0 ... 1 0 38190.78]]\n",
            "[0.0 0.0 619 0 42 2 0.0 1 1 1 101348.88]\n"
          ],
          "name": "stdout"
        }
      ]
    },
    {
      "cell_type": "code",
      "metadata": {
        "id": "0FYRC9W4-MFX",
        "colab_type": "code",
        "colab": {}
      },
      "source": [
        "# Split the Dataset into Training Set and Test Set\n",
        "from sklearn.model_selection import train_test_split\n",
        "X_train, X_test, y_train, y_test = train_test_split(X,y, test_size = 0.2, random_state = 0) # 20% of data for test"
      ],
      "execution_count": 0,
      "outputs": []
    },
    {
      "cell_type": "code",
      "metadata": {
        "id": "uW85HKDd-bo9",
        "colab_type": "code",
        "colab": {}
      },
      "source": [
        "# Apply Feature Scaling\n",
        "from sklearn.preprocessing import StandardScaler\n",
        "scale_X = StandardScaler()\n",
        "X_train = scale_X.fit_transform(X_train)\n",
        "X_test = scale_X.transform(X_test)"
      ],
      "execution_count": 0,
      "outputs": []
    },
    {
      "cell_type": "markdown",
      "metadata": {
        "id": "Vsbq1TzTGpmg",
        "colab_type": "text"
      },
      "source": [
        "### **Apply the model to the training dataset**\n",
        "\n"
      ]
    },
    {
      "cell_type": "code",
      "metadata": {
        "id": "HGX35X5J4lO3",
        "colab_type": "code",
        "colab": {}
      },
      "source": [
        "# Importing the Keras libraries and packages\n",
        "import keras # will help build the neural network based on TensorFlow\n",
        "from keras.models import Sequential\n",
        "from keras.layers import Dense"
      ],
      "execution_count": 0,
      "outputs": []
    },
    {
      "cell_type": "code",
      "metadata": {
        "id": "lDas2p12DosS",
        "colab_type": "code",
        "outputId": "c8df5730-bc15-4233-e68a-8533a1f366b5",
        "colab": {
          "base_uri": "https://localhost:8080/",
          "height": 1000
        }
      },
      "source": [
        "# Initialising the ANN\n",
        "classifier = Sequential()  # Sequence of layers\n",
        "\n",
        "# Adding the input layer and the first hidden layer (dense funtion will take in charge the initialisation of the weights)\n",
        "classifier.add(Dense(output_dim = 6, init = 'uniform', activation = 'relu', input_dim = 11))\n",
        "\n",
        "# Adding the second hidden layer\n",
        "classifier.add(Dense(output_dim = 6, init = 'uniform', activation = 'relu'))\n",
        "\n",
        "# Adding the output layer\n",
        "classifier.add(Dense(output_dim = 1, init = 'uniform', activation = 'sigmoid'))\n",
        "\n",
        "# Compiling the ANN\n",
        "classifier.compile(optimizer = 'adam', loss = 'binary_crossentropy', metrics = ['accuracy'])\n",
        "\n",
        "# Fitting the ANN to the Training set\n",
        "classifier.fit(X_train, y_train, batch_size = 10, nb_epoch = 100)"
      ],
      "execution_count": 59,
      "outputs": [
        {
          "output_type": "stream",
          "text": [
            "/usr/local/lib/python3.6/dist-packages/ipykernel_launcher.py:4: UserWarning: Update your `Dense` call to the Keras 2 API: `Dense(activation=\"relu\", input_dim=11, units=6, kernel_initializer=\"uniform\")`\n",
            "  after removing the cwd from sys.path.\n",
            "/usr/local/lib/python3.6/dist-packages/ipykernel_launcher.py:7: UserWarning: Update your `Dense` call to the Keras 2 API: `Dense(activation=\"relu\", units=6, kernel_initializer=\"uniform\")`\n",
            "  import sys\n",
            "/usr/local/lib/python3.6/dist-packages/ipykernel_launcher.py:10: UserWarning: Update your `Dense` call to the Keras 2 API: `Dense(activation=\"sigmoid\", units=1, kernel_initializer=\"uniform\")`\n",
            "  # Remove the CWD from sys.path while we load stuff.\n",
            "/usr/local/lib/python3.6/dist-packages/ipykernel_launcher.py:16: UserWarning: The `nb_epoch` argument in `fit` has been renamed `epochs`.\n",
            "  app.launch_new_instance()\n"
          ],
          "name": "stderr"
        },
        {
          "output_type": "stream",
          "text": [
            "Epoch 1/100\n",
            "8000/8000 [==============================] - 1s 148us/step - loss: 0.4937 - acc: 0.7952\n",
            "Epoch 2/100\n",
            "8000/8000 [==============================] - 1s 117us/step - loss: 0.4282 - acc: 0.7960\n",
            "Epoch 3/100\n",
            "8000/8000 [==============================] - 1s 119us/step - loss: 0.4235 - acc: 0.7960\n",
            "Epoch 4/100\n",
            "8000/8000 [==============================] - 1s 120us/step - loss: 0.4191 - acc: 0.8097\n",
            "Epoch 5/100\n",
            "8000/8000 [==============================] - 1s 119us/step - loss: 0.4165 - acc: 0.8256\n",
            "Epoch 6/100\n",
            "8000/8000 [==============================] - 1s 117us/step - loss: 0.4148 - acc: 0.8289\n",
            "Epoch 7/100\n",
            "8000/8000 [==============================] - 1s 120us/step - loss: 0.4136 - acc: 0.8311\n",
            "Epoch 8/100\n",
            "8000/8000 [==============================] - 1s 114us/step - loss: 0.4122 - acc: 0.8319\n",
            "Epoch 9/100\n",
            "8000/8000 [==============================] - 1s 117us/step - loss: 0.4108 - acc: 0.8325\n",
            "Epoch 10/100\n",
            "8000/8000 [==============================] - 1s 121us/step - loss: 0.4105 - acc: 0.8324\n",
            "Epoch 11/100\n",
            "8000/8000 [==============================] - 1s 126us/step - loss: 0.4093 - acc: 0.8331\n",
            "Epoch 12/100\n",
            "8000/8000 [==============================] - 1s 122us/step - loss: 0.4089 - acc: 0.8350\n",
            "Epoch 13/100\n",
            "8000/8000 [==============================] - 1s 120us/step - loss: 0.4080 - acc: 0.8337\n",
            "Epoch 14/100\n",
            "8000/8000 [==============================] - 1s 123us/step - loss: 0.4074 - acc: 0.8331\n",
            "Epoch 15/100\n",
            "8000/8000 [==============================] - 1s 119us/step - loss: 0.4070 - acc: 0.8345\n",
            "Epoch 16/100\n",
            "8000/8000 [==============================] - 1s 119us/step - loss: 0.4063 - acc: 0.8346\n",
            "Epoch 17/100\n",
            "8000/8000 [==============================] - 1s 123us/step - loss: 0.4060 - acc: 0.8346\n",
            "Epoch 18/100\n",
            "8000/8000 [==============================] - 1s 118us/step - loss: 0.4054 - acc: 0.8346\n",
            "Epoch 19/100\n",
            "8000/8000 [==============================] - 1s 118us/step - loss: 0.4046 - acc: 0.8340\n",
            "Epoch 20/100\n",
            "8000/8000 [==============================] - 1s 119us/step - loss: 0.4051 - acc: 0.8329\n",
            "Epoch 21/100\n",
            "8000/8000 [==============================] - 1s 118us/step - loss: 0.4045 - acc: 0.8354\n",
            "Epoch 22/100\n",
            "8000/8000 [==============================] - 1s 124us/step - loss: 0.4041 - acc: 0.8346\n",
            "Epoch 23/100\n",
            "8000/8000 [==============================] - 1s 117us/step - loss: 0.4044 - acc: 0.8346\n",
            "Epoch 24/100\n",
            "8000/8000 [==============================] - 1s 122us/step - loss: 0.4038 - acc: 0.8347\n",
            "Epoch 25/100\n",
            "8000/8000 [==============================] - 1s 118us/step - loss: 0.4038 - acc: 0.8335\n",
            "Epoch 26/100\n",
            "8000/8000 [==============================] - 1s 123us/step - loss: 0.4034 - acc: 0.8355\n",
            "Epoch 27/100\n",
            "8000/8000 [==============================] - 1s 118us/step - loss: 0.4032 - acc: 0.8346\n",
            "Epoch 28/100\n",
            "8000/8000 [==============================] - 1s 118us/step - loss: 0.4034 - acc: 0.8365\n",
            "Epoch 29/100\n",
            "8000/8000 [==============================] - 1s 121us/step - loss: 0.4028 - acc: 0.8346\n",
            "Epoch 30/100\n",
            "8000/8000 [==============================] - 1s 118us/step - loss: 0.4030 - acc: 0.8344\n",
            "Epoch 31/100\n",
            "8000/8000 [==============================] - 1s 119us/step - loss: 0.4032 - acc: 0.8342\n",
            "Epoch 32/100\n",
            "8000/8000 [==============================] - 1s 117us/step - loss: 0.4030 - acc: 0.8347\n",
            "Epoch 33/100\n",
            "8000/8000 [==============================] - 1s 121us/step - loss: 0.4030 - acc: 0.8342\n",
            "Epoch 34/100\n",
            "8000/8000 [==============================] - 1s 119us/step - loss: 0.4030 - acc: 0.8347\n",
            "Epoch 35/100\n",
            "8000/8000 [==============================] - 1s 119us/step - loss: 0.4026 - acc: 0.8331\n",
            "Epoch 36/100\n",
            "8000/8000 [==============================] - 1s 124us/step - loss: 0.4026 - acc: 0.8346\n",
            "Epoch 37/100\n",
            "8000/8000 [==============================] - 1s 119us/step - loss: 0.4022 - acc: 0.8354\n",
            "Epoch 38/100\n",
            "8000/8000 [==============================] - 1s 123us/step - loss: 0.4026 - acc: 0.8344\n",
            "Epoch 39/100\n",
            "8000/8000 [==============================] - 1s 122us/step - loss: 0.4025 - acc: 0.8346\n",
            "Epoch 40/100\n",
            "8000/8000 [==============================] - 1s 120us/step - loss: 0.4023 - acc: 0.8339\n",
            "Epoch 41/100\n",
            "8000/8000 [==============================] - 1s 122us/step - loss: 0.4022 - acc: 0.8337\n",
            "Epoch 42/100\n",
            "8000/8000 [==============================] - 1s 120us/step - loss: 0.4019 - acc: 0.8340\n",
            "Epoch 43/100\n",
            "8000/8000 [==============================] - 1s 120us/step - loss: 0.4022 - acc: 0.8350\n",
            "Epoch 44/100\n",
            "8000/8000 [==============================] - 1s 118us/step - loss: 0.4024 - acc: 0.8340\n",
            "Epoch 45/100\n",
            "8000/8000 [==============================] - 1s 119us/step - loss: 0.4022 - acc: 0.8339\n",
            "Epoch 46/100\n",
            "8000/8000 [==============================] - 1s 120us/step - loss: 0.4022 - acc: 0.8352\n",
            "Epoch 47/100\n",
            "8000/8000 [==============================] - 1s 118us/step - loss: 0.4021 - acc: 0.8337\n",
            "Epoch 48/100\n",
            "8000/8000 [==============================] - 1s 117us/step - loss: 0.4020 - acc: 0.8349\n",
            "Epoch 49/100\n",
            "8000/8000 [==============================] - 1s 129us/step - loss: 0.4021 - acc: 0.8326\n",
            "Epoch 50/100\n",
            "8000/8000 [==============================] - 1s 130us/step - loss: 0.4019 - acc: 0.8329\n",
            "Epoch 51/100\n",
            "8000/8000 [==============================] - 1s 123us/step - loss: 0.4022 - acc: 0.8349\n",
            "Epoch 52/100\n",
            "8000/8000 [==============================] - 1s 119us/step - loss: 0.4022 - acc: 0.8330\n",
            "Epoch 53/100\n",
            "8000/8000 [==============================] - 1s 123us/step - loss: 0.4018 - acc: 0.8344\n",
            "Epoch 54/100\n",
            "8000/8000 [==============================] - 1s 123us/step - loss: 0.4017 - acc: 0.8341\n",
            "Epoch 55/100\n",
            "8000/8000 [==============================] - 1s 118us/step - loss: 0.4017 - acc: 0.8345\n",
            "Epoch 56/100\n",
            "8000/8000 [==============================] - 1s 124us/step - loss: 0.4016 - acc: 0.8349\n",
            "Epoch 57/100\n",
            "8000/8000 [==============================] - 1s 122us/step - loss: 0.4021 - acc: 0.8346\n",
            "Epoch 58/100\n",
            "8000/8000 [==============================] - 1s 117us/step - loss: 0.4017 - acc: 0.8346\n",
            "Epoch 59/100\n",
            "8000/8000 [==============================] - 1s 119us/step - loss: 0.4021 - acc: 0.8337\n",
            "Epoch 60/100\n",
            "8000/8000 [==============================] - 1s 124us/step - loss: 0.4019 - acc: 0.8349\n",
            "Epoch 61/100\n",
            "8000/8000 [==============================] - 1s 124us/step - loss: 0.4017 - acc: 0.8344\n",
            "Epoch 62/100\n",
            "8000/8000 [==============================] - 1s 123us/step - loss: 0.4015 - acc: 0.8332\n",
            "Epoch 63/100\n",
            "8000/8000 [==============================] - 1s 125us/step - loss: 0.4017 - acc: 0.8342\n",
            "Epoch 64/100\n",
            "8000/8000 [==============================] - 1s 119us/step - loss: 0.4015 - acc: 0.8339\n",
            "Epoch 65/100\n",
            "8000/8000 [==============================] - 1s 128us/step - loss: 0.4018 - acc: 0.8345\n",
            "Epoch 66/100\n",
            "8000/8000 [==============================] - 1s 125us/step - loss: 0.4015 - acc: 0.8347\n",
            "Epoch 67/100\n",
            "8000/8000 [==============================] - 1s 118us/step - loss: 0.4018 - acc: 0.8340\n",
            "Epoch 68/100\n",
            "8000/8000 [==============================] - 1s 118us/step - loss: 0.4012 - acc: 0.8357\n",
            "Epoch 69/100\n",
            "8000/8000 [==============================] - 1s 134us/step - loss: 0.4018 - acc: 0.8321\n",
            "Epoch 70/100\n",
            "8000/8000 [==============================] - 1s 119us/step - loss: 0.4018 - acc: 0.8345\n",
            "Epoch 71/100\n",
            "8000/8000 [==============================] - 1s 119us/step - loss: 0.4014 - acc: 0.8344\n",
            "Epoch 72/100\n",
            "8000/8000 [==============================] - 1s 120us/step - loss: 0.4019 - acc: 0.8345\n",
            "Epoch 73/100\n",
            "8000/8000 [==============================] - 1s 124us/step - loss: 0.4015 - acc: 0.8346\n",
            "Epoch 74/100\n",
            "8000/8000 [==============================] - 1s 123us/step - loss: 0.4017 - acc: 0.8340\n",
            "Epoch 75/100\n",
            "8000/8000 [==============================] - 1s 131us/step - loss: 0.4012 - acc: 0.8361\n",
            "Epoch 76/100\n",
            "8000/8000 [==============================] - 1s 121us/step - loss: 0.4018 - acc: 0.8341\n",
            "Epoch 77/100\n",
            "8000/8000 [==============================] - 1s 126us/step - loss: 0.4015 - acc: 0.8345\n",
            "Epoch 78/100\n",
            "8000/8000 [==============================] - 1s 122us/step - loss: 0.4016 - acc: 0.8339\n",
            "Epoch 79/100\n",
            "8000/8000 [==============================] - 1s 119us/step - loss: 0.4016 - acc: 0.8340\n",
            "Epoch 80/100\n",
            "8000/8000 [==============================] - 1s 118us/step - loss: 0.4014 - acc: 0.8341\n",
            "Epoch 81/100\n",
            "8000/8000 [==============================] - 1s 119us/step - loss: 0.4014 - acc: 0.8355\n",
            "Epoch 82/100\n",
            "8000/8000 [==============================] - 1s 126us/step - loss: 0.4016 - acc: 0.8339\n",
            "Epoch 83/100\n",
            "8000/8000 [==============================] - 1s 134us/step - loss: 0.4014 - acc: 0.8342\n",
            "Epoch 84/100\n",
            "8000/8000 [==============================] - 1s 131us/step - loss: 0.4016 - acc: 0.8332\n",
            "Epoch 85/100\n",
            "8000/8000 [==============================] - 1s 134us/step - loss: 0.4015 - acc: 0.8340\n",
            "Epoch 86/100\n",
            "8000/8000 [==============================] - 1s 131us/step - loss: 0.4011 - acc: 0.8342\n",
            "Epoch 87/100\n",
            "8000/8000 [==============================] - 1s 133us/step - loss: 0.4013 - acc: 0.8352\n",
            "Epoch 88/100\n",
            "8000/8000 [==============================] - 1s 120us/step - loss: 0.4014 - acc: 0.8340\n",
            "Epoch 89/100\n",
            "8000/8000 [==============================] - 1s 119us/step - loss: 0.4014 - acc: 0.8339\n",
            "Epoch 90/100\n",
            "8000/8000 [==============================] - 1s 119us/step - loss: 0.4013 - acc: 0.8336\n",
            "Epoch 91/100\n",
            "8000/8000 [==============================] - 1s 125us/step - loss: 0.4010 - acc: 0.8336\n",
            "Epoch 92/100\n",
            "8000/8000 [==============================] - 1s 121us/step - loss: 0.4012 - acc: 0.8342\n",
            "Epoch 93/100\n",
            "8000/8000 [==============================] - 1s 132us/step - loss: 0.4013 - acc: 0.8340\n",
            "Epoch 94/100\n",
            "8000/8000 [==============================] - 1s 121us/step - loss: 0.4008 - acc: 0.8349\n",
            "Epoch 95/100\n",
            "8000/8000 [==============================] - 1s 118us/step - loss: 0.4008 - acc: 0.8332\n",
            "Epoch 96/100\n",
            "8000/8000 [==============================] - 1s 130us/step - loss: 0.4009 - acc: 0.8331\n",
            "Epoch 97/100\n",
            "8000/8000 [==============================] - 1s 118us/step - loss: 0.4012 - acc: 0.8337\n",
            "Epoch 98/100\n",
            "8000/8000 [==============================] - 1s 117us/step - loss: 0.4008 - acc: 0.8346\n",
            "Epoch 99/100\n",
            "8000/8000 [==============================] - 1s 118us/step - loss: 0.4010 - acc: 0.8346\n",
            "Epoch 100/100\n",
            "8000/8000 [==============================] - 1s 122us/step - loss: 0.4011 - acc: 0.8334\n"
          ],
          "name": "stdout"
        },
        {
          "output_type": "execute_result",
          "data": {
            "text/plain": [
              "<keras.callbacks.History at 0x7f9c98dc87b8>"
            ]
          },
          "metadata": {
            "tags": []
          },
          "execution_count": 59
        }
      ]
    },
    {
      "cell_type": "markdown",
      "metadata": {
        "id": "pFVHuGG6__Vm",
        "colab_type": "text"
      },
      "source": [
        "### **Predict test set results**"
      ]
    },
    {
      "cell_type": "code",
      "metadata": {
        "id": "UAy3iG-342xK",
        "colab_type": "code",
        "colab": {}
      },
      "source": [
        "y_pred = classifier.predict(X_test)  # y_pred is a probability\n",
        "y_pred = (y_pred > 0.5)  # because we used the sigmoid as an activation function"
      ],
      "execution_count": 0,
      "outputs": []
    },
    {
      "cell_type": "markdown",
      "metadata": {
        "id": "CvkK4kOKG5M8",
        "colab_type": "text"
      },
      "source": [
        "### **Visualize results**"
      ]
    },
    {
      "cell_type": "markdown",
      "metadata": {
        "id": "V6H8Dnw4HfyW",
        "colab_type": "text"
      },
      "source": [
        "### **Test the performance of the model**"
      ]
    },
    {
      "cell_type": "markdown",
      "metadata": {
        "id": "hlyyZ-xTBNi8",
        "colab_type": "text"
      },
      "source": [
        "Compute **Confusion Matrix** to evaluate the accuracy of a classification\n"
      ]
    },
    {
      "cell_type": "code",
      "metadata": {
        "id": "jh_tOea4hZkG",
        "colab_type": "code",
        "outputId": "bef46cc2-7769-4df6-fd24-7bc3a6aacf63",
        "colab": {
          "base_uri": "https://localhost:8080/",
          "height": 52
        }
      },
      "source": [
        "from sklearn.metrics import confusion_matrix\n",
        "cm = confusion_matrix(y_test, y_pred)\n",
        "cm"
      ],
      "execution_count": 61,
      "outputs": [
        {
          "output_type": "execute_result",
          "data": {
            "text/plain": [
              "array([[1538,   57],\n",
              "       [ 259,  146]])"
            ]
          },
          "metadata": {
            "tags": []
          },
          "execution_count": 61
        }
      ]
    },
    {
      "cell_type": "code",
      "metadata": {
        "id": "YaDA6LxuQJ4p",
        "colab_type": "code",
        "colab": {
          "base_uri": "https://localhost:8080/",
          "height": 34
        },
        "outputId": "d6bed513-f739-4f07-9326-53d05ef29bf6"
      },
      "source": [
        "accuracy = (1538+146)/2000\n",
        "accuracy"
      ],
      "execution_count": 63,
      "outputs": [
        {
          "output_type": "execute_result",
          "data": {
            "text/plain": [
              "0.842"
            ]
          },
          "metadata": {
            "tags": []
          },
          "execution_count": 63
        }
      ]
    }
  ]
}