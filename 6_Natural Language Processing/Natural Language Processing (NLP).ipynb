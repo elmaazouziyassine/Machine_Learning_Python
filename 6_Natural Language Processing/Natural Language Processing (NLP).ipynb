{
  "nbformat": 4,
  "nbformat_minor": 0,
  "metadata": {
    "colab": {
      "name": "Natural Language Processing (NLP).ipynb",
      "provenance": [],
      "collapsed_sections": [
        "CvkK4kOKG5M8"
      ],
      "include_colab_link": true
    },
    "kernelspec": {
      "name": "python3",
      "display_name": "Python 3"
    }
  },
  "cells": [
    {
      "cell_type": "markdown",
      "metadata": {
        "id": "view-in-github",
        "colab_type": "text"
      },
      "source": [
        "<a href=\"https://colab.research.google.com/github/elmaazouziyassine/Machine_Learning_Python/blob/master/6_Natural%20Language%20Processing/Natural%20Language%20Processing%20(NLP).ipynb\" target=\"_parent\"><img src=\"https://colab.research.google.com/assets/colab-badge.svg\" alt=\"Open In Colab\"/></a>"
      ]
    },
    {
      "cell_type": "markdown",
      "metadata": {
        "id": "mnAuvSZrtpF9",
        "colab_type": "text"
      },
      "source": [
        "# **Natural Language Processing (NLP)**\n",
        "\n"
      ]
    },
    {
      "cell_type": "markdown",
      "metadata": {
        "id": "8WlNnfISDgjp",
        "colab_type": "text"
      },
      "source": [
        "### **Data Preprocessing**\n",
        "\n",
        "\n"
      ]
    },
    {
      "cell_type": "code",
      "metadata": {
        "id": "59_UXMpUhLu1",
        "colab_type": "code",
        "colab": {}
      },
      "source": [
        "# Import the needed libraries\n",
        "import numpy as np\n",
        "import pandas as pd\n",
        "import matplotlib.pyplot as plt\n",
        "import seaborn as sns\n",
        "import sklearn"
      ],
      "execution_count": 0,
      "outputs": []
    },
    {
      "cell_type": "code",
      "metadata": {
        "id": "FhNsUA7PkyRg",
        "colab_type": "code",
        "outputId": "0c1da0ce-8d9b-452a-c741-ac5436c6cbe4",
        "colab": {
          "base_uri": "https://localhost:8080/",
          "height": 195
        }
      },
      "source": [
        "# Import dataset\n",
        "dataset = 'https://raw.githubusercontent.com/elmaazouziyassine/Machine_Learning_Python/master/datasets/restaurant_reviews.tsv'\n",
        "data = pd.read_csv(dataset, delimiter = '\\t', quoting = 3)   # to ignore double quote\n",
        "data.head()"
      ],
      "execution_count": 0,
      "outputs": [
        {
          "output_type": "execute_result",
          "data": {
            "text/html": [
              "<div>\n",
              "<style scoped>\n",
              "    .dataframe tbody tr th:only-of-type {\n",
              "        vertical-align: middle;\n",
              "    }\n",
              "\n",
              "    .dataframe tbody tr th {\n",
              "        vertical-align: top;\n",
              "    }\n",
              "\n",
              "    .dataframe thead th {\n",
              "        text-align: right;\n",
              "    }\n",
              "</style>\n",
              "<table border=\"1\" class=\"dataframe\">\n",
              "  <thead>\n",
              "    <tr style=\"text-align: right;\">\n",
              "      <th></th>\n",
              "      <th>Review</th>\n",
              "      <th>Liked</th>\n",
              "    </tr>\n",
              "  </thead>\n",
              "  <tbody>\n",
              "    <tr>\n",
              "      <th>0</th>\n",
              "      <td>Wow... Loved this place.</td>\n",
              "      <td>1</td>\n",
              "    </tr>\n",
              "    <tr>\n",
              "      <th>1</th>\n",
              "      <td>Crust is not good.</td>\n",
              "      <td>0</td>\n",
              "    </tr>\n",
              "    <tr>\n",
              "      <th>2</th>\n",
              "      <td>Not tasty and the texture was just nasty.</td>\n",
              "      <td>0</td>\n",
              "    </tr>\n",
              "    <tr>\n",
              "      <th>3</th>\n",
              "      <td>Stopped by during the late May bank holiday of...</td>\n",
              "      <td>1</td>\n",
              "    </tr>\n",
              "    <tr>\n",
              "      <th>4</th>\n",
              "      <td>The selection on the menu was great and so wer...</td>\n",
              "      <td>1</td>\n",
              "    </tr>\n",
              "  </tbody>\n",
              "</table>\n",
              "</div>"
            ],
            "text/plain": [
              "                                              Review  Liked\n",
              "0                           Wow... Loved this place.      1\n",
              "1                                 Crust is not good.      0\n",
              "2          Not tasty and the texture was just nasty.      0\n",
              "3  Stopped by during the late May bank holiday of...      1\n",
              "4  The selection on the menu was great and so wer...      1"
            ]
          },
          "metadata": {
            "tags": []
          },
          "execution_count": 5
        }
      ]
    },
    {
      "cell_type": "code",
      "metadata": {
        "id": "fESy5CqPDoo7",
        "colab_type": "code",
        "outputId": "0cc59e45-5592-4e97-d52e-20bbecd3d168",
        "colab": {
          "base_uri": "https://localhost:8080/",
          "height": 70
        }
      },
      "source": [
        "data.count()"
      ],
      "execution_count": 0,
      "outputs": [
        {
          "output_type": "execute_result",
          "data": {
            "text/plain": [
              "Review    1000\n",
              "Liked     1000\n",
              "dtype: int64"
            ]
          },
          "metadata": {
            "tags": []
          },
          "execution_count": 6
        }
      ]
    },
    {
      "cell_type": "code",
      "metadata": {
        "id": "0TC5BeiOfl_U",
        "colab_type": "code",
        "outputId": "d497d328-6f30-4795-9530-546507c6afe5",
        "colab": {
          "base_uri": "https://localhost:8080/",
          "height": 105
        }
      },
      "source": [
        "for i in range(0, 5):\n",
        "  print(data['Review'][i])"
      ],
      "execution_count": 0,
      "outputs": [
        {
          "output_type": "stream",
          "text": [
            "Wow... Loved this place.\n",
            "Crust is not good.\n",
            "Not tasty and the texture was just nasty.\n",
            "Stopped by during the late May bank holiday off Rick Steve recommendation and loved it.\n",
            "The selection on the menu was great and so were the prices.\n"
          ],
          "name": "stdout"
        }
      ]
    },
    {
      "cell_type": "markdown",
      "metadata": {
        "id": "8huGCSrbZhp6",
        "colab_type": "text"
      },
      "source": [
        "**Clean the text**"
      ]
    },
    {
      "cell_type": "markdown",
      "metadata": {
        "id": "JWn5a505dvK9",
        "colab_type": "text"
      },
      "source": [
        "- From each line, get only the releveant words. (eliminate the non-useful words by matching with the 'stopwords' list)\n",
        "- Do Stemmer (loved, loving --> love) \n",
        "- Transfrom to lower text\n"
      ]
    },
    {
      "cell_type": "code",
      "metadata": {
        "id": "bDowH4L4lYfM",
        "colab_type": "code",
        "outputId": "82511230-7d02-417b-97b5-5b5a0b734de7",
        "colab": {
          "base_uri": "https://localhost:8080/",
          "height": 52
        }
      },
      "source": [
        "import re     \n",
        "import nltk\n",
        "nltk.download('stopwords')\n",
        "from nltk.corpus import stopwords\n",
        "from nltk.stem.porter import PorterStemmer\n",
        "corpus = []\n",
        "\n",
        "for i in range(0, 1000):\n",
        "    review = re.sub('[^a-zA-Z]', ' ', data['Review'][i])  #remove anything other than a-zA-Z but replace its space by ' '\n",
        "    review = review.lower()\n",
        "    review = review.split()\n",
        "    ps = PorterStemmer()\n",
        "    review = [ps.stem(word) for word in review if not word in set(stopwords.words('english'))]\n",
        "    review = ' '.join(review)\n",
        "    corpus.append(review)"
      ],
      "execution_count": 0,
      "outputs": [
        {
          "output_type": "stream",
          "text": [
            "[nltk_data] Downloading package stopwords to /root/nltk_data...\n",
            "[nltk_data]   Unzipping corpora/stopwords.zip.\n"
          ],
          "name": "stdout"
        }
      ]
    },
    {
      "cell_type": "code",
      "metadata": {
        "id": "jm9NWU27dmMH",
        "colab_type": "code",
        "outputId": "e3ac4f7a-a3de-4d2d-f606-ab4e7d427d82",
        "colab": {
          "base_uri": "https://localhost:8080/",
          "height": 105
        }
      },
      "source": [
        "for i in range(0, 5):\n",
        "  print(corpus[i])"
      ],
      "execution_count": 0,
      "outputs": [
        {
          "output_type": "stream",
          "text": [
            "wow love place\n",
            "crust good\n",
            "tasti textur nasti\n",
            "stop late may bank holiday rick steve recommend love\n",
            "select menu great price\n"
          ],
          "name": "stdout"
        }
      ]
    },
    {
      "cell_type": "code",
      "metadata": {
        "id": "5CbPLTFFlL__",
        "colab_type": "code",
        "outputId": "9023f792-645d-4752-91c6-18ad741d6e36",
        "colab": {
          "base_uri": "https://localhost:8080/",
          "height": 105
        }
      },
      "source": [
        "for i in range(0, 5):\n",
        "  print(stopwords.words('english')[i])"
      ],
      "execution_count": 0,
      "outputs": [
        {
          "output_type": "stream",
          "text": [
            "i\n",
            "me\n",
            "my\n",
            "myself\n",
            "we\n"
          ],
          "name": "stdout"
        }
      ]
    },
    {
      "cell_type": "markdown",
      "metadata": {
        "id": "MHVAqWFkZ1i0",
        "colab_type": "text"
      },
      "source": [
        "**Create the Bag of Words Model**"
      ]
    },
    {
      "cell_type": "code",
      "metadata": {
        "id": "L7Ao7_7GlkZ6",
        "colab_type": "code",
        "colab": {}
      },
      "source": [
        "from sklearn.feature_extraction.text import CountVectorizer\n",
        "cv = CountVectorizer(max_features = 1500)  # contains also stop_words & lowercase & token_pattern features // take only the max_features = 1500 most frequent words\n",
        "X = cv.fit_transform(corpus).toarray()\n",
        "y = data.iloc[:, 1].values "
      ],
      "execution_count": 0,
      "outputs": []
    },
    {
      "cell_type": "markdown",
      "metadata": {
        "id": "b-KPxHfyr1zI",
        "colab_type": "text"
      },
      "source": [
        "X = table (1000 reviews  * 1500 words)"
      ]
    },
    {
      "cell_type": "markdown",
      "metadata": {
        "id": "zUpFyTAOaE2A",
        "colab_type": "text"
      },
      "source": [
        "**Split the dataset into the Training set and Test set**"
      ]
    },
    {
      "cell_type": "code",
      "metadata": {
        "id": "KdLqOzxRaH9S",
        "colab_type": "code",
        "colab": {}
      },
      "source": [
        "from sklearn.model_selection import train_test_split\n",
        "X_train, X_test, y_train, y_test = train_test_split(X,y, test_size = 0.2, random_state = 0)"
      ],
      "execution_count": 0,
      "outputs": []
    },
    {
      "cell_type": "markdown",
      "metadata": {
        "id": "Vsbq1TzTGpmg",
        "colab_type": "text"
      },
      "source": [
        "### **Apply a Machine Learning Model to the Training Set**\n",
        "\n"
      ]
    },
    {
      "cell_type": "markdown",
      "metadata": {
        "id": "5EyylM9wam9t",
        "colab_type": "text"
      },
      "source": [
        "**Fit Naive Bayes to the Training set**"
      ]
    },
    {
      "cell_type": "code",
      "metadata": {
        "id": "lDas2p12DosS",
        "colab_type": "code",
        "outputId": "a2f7419e-2952-4570-9b33-8d459d716ae8",
        "colab": {
          "base_uri": "https://localhost:8080/",
          "height": 34
        }
      },
      "source": [
        "from sklearn.naive_bayes import GaussianNB\n",
        "classifier = GaussianNB()\n",
        "classifier.fit(X_train, y_train)"
      ],
      "execution_count": 0,
      "outputs": [
        {
          "output_type": "execute_result",
          "data": {
            "text/plain": [
              "GaussianNB(priors=None, var_smoothing=1e-09)"
            ]
          },
          "metadata": {
            "tags": []
          },
          "execution_count": 17
        }
      ]
    },
    {
      "cell_type": "markdown",
      "metadata": {
        "id": "pFVHuGG6__Vm",
        "colab_type": "text"
      },
      "source": [
        "### **Predict the Test Set Results**"
      ]
    },
    {
      "cell_type": "code",
      "metadata": {
        "id": "UAy3iG-342xK",
        "colab_type": "code",
        "outputId": "11c9ab3b-bd14-4f86-9baf-93b755e679f0",
        "colab": {
          "base_uri": "https://localhost:8080/",
          "height": 193
        }
      },
      "source": [
        "# Predict the Test Set resutls \n",
        "y_pred = classifier.predict(X_test)\n",
        "y_pred"
      ],
      "execution_count": 0,
      "outputs": [
        {
          "output_type": "execute_result",
          "data": {
            "text/plain": [
              "array([1, 1, 1, 0, 0, 1, 1, 1, 1, 1, 1, 1, 1, 1, 1, 1, 0, 0, 0, 1, 0, 0,\n",
              "       1, 1, 1, 0, 1, 1, 1, 0, 1, 1, 1, 1, 1, 0, 1, 0, 1, 1, 1, 1, 1, 0,\n",
              "       0, 0, 1, 1, 0, 0, 1, 1, 1, 1, 1, 0, 1, 1, 0, 1, 1, 0, 1, 1, 1, 0,\n",
              "       1, 1, 1, 1, 1, 1, 1, 1, 0, 1, 1, 0, 0, 1, 0, 1, 1, 0, 1, 1, 1, 0,\n",
              "       1, 1, 0, 1, 0, 0, 1, 1, 1, 1, 1, 1, 0, 1, 1, 1, 0, 1, 1, 1, 0, 0,\n",
              "       0, 1, 0, 1, 1, 0, 1, 1, 1, 1, 1, 0, 1, 1, 0, 0, 1, 1, 0, 1, 1, 1,\n",
              "       0, 0, 1, 1, 1, 1, 1, 1, 0, 1, 1, 0, 1, 0, 1, 1, 1, 1, 1, 0, 1, 1,\n",
              "       1, 0, 1, 1, 1, 1, 1, 0, 0, 1, 0, 0, 1, 0, 0, 0, 0, 1, 1, 0, 0, 1,\n",
              "       0, 1, 0, 0, 1, 0, 0, 1, 0, 1, 0, 1, 0, 1, 1, 0, 1, 1, 1, 0, 1, 1,\n",
              "       1, 1])"
            ]
          },
          "metadata": {
            "tags": []
          },
          "execution_count": 18
        }
      ]
    },
    {
      "cell_type": "markdown",
      "metadata": {
        "id": "CvkK4kOKG5M8",
        "colab_type": "text"
      },
      "source": [
        "### **Visualize the results**"
      ]
    },
    {
      "cell_type": "code",
      "metadata": {
        "id": "5A07R3MPDoyF",
        "colab_type": "code",
        "colab": {}
      },
      "source": [
        ""
      ],
      "execution_count": 0,
      "outputs": []
    },
    {
      "cell_type": "markdown",
      "metadata": {
        "id": "V6H8Dnw4HfyW",
        "colab_type": "text"
      },
      "source": [
        "### **Test the performance of the model**"
      ]
    },
    {
      "cell_type": "markdown",
      "metadata": {
        "id": "y3v69H9Ua1Bq",
        "colab_type": "text"
      },
      "source": [
        "**Confusion Matrix**"
      ]
    },
    {
      "cell_type": "code",
      "metadata": {
        "id": "7YS7m5CMDo1Z",
        "colab_type": "code",
        "outputId": "0759a1e0-85e2-4d46-ef01-ae3d23743989",
        "colab": {
          "base_uri": "https://localhost:8080/",
          "height": 52
        }
      },
      "source": [
        "from sklearn.metrics import confusion_matrix\n",
        "cm = confusion_matrix(y_test, y_pred)\n",
        "cm"
      ],
      "execution_count": 0,
      "outputs": [
        {
          "output_type": "execute_result",
          "data": {
            "text/plain": [
              "array([[55, 42],\n",
              "       [12, 91]])"
            ]
          },
          "metadata": {
            "tags": []
          },
          "execution_count": 20
        }
      ]
    }
  ]
}